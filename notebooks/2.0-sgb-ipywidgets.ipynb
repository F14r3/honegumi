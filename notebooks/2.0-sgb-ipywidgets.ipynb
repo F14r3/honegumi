{
 "cells": [
  {
   "cell_type": "markdown",
   "metadata": {},
   "source": [
    "# Dynamic Matrix Output with ipywidgets"
   ]
  },
  {
   "cell_type": "code",
   "execution_count": 8,
   "metadata": {},
   "outputs": [
    {
     "data": {
      "application/vnd.jupyter.widget-view+json": {
       "model_id": "af01c498df094022957e390888ea1af3",
       "version_major": 2,
       "version_minor": 0
      },
      "text/plain": [
       "VBox(children=(HBox(children=(Label(value='Option 1:', layout=Layout(width='100px')), ToggleButtons(layout=Lay…"
      ]
     },
     "metadata": {},
     "output_type": "display_data"
    }
   ],
   "source": [
    "import ipywidgets as widgets\n",
    "from IPython.display import display\n",
    "import numpy as np\n",
    "\n",
    "# Define the options for the toggle buttons\n",
    "data = [\n",
    "    {\n",
    "        'description': 'Option 1:',\n",
    "        'options': {\n",
    "            'A': 'You selected Option 1. A',\n",
    "            'B': 'You selected Option 1. B',\n",
    "            'C': 'You selected Option 1. C'\n",
    "        }\n",
    "    },\n",
    "    {\n",
    "        'description': 'Option 2:',\n",
    "        'options': {\n",
    "            'D': 'You selected Option 2. D',\n",
    "            'E': 'You selected Option 2. E'\n",
    "        }\n",
    "    },\n",
    "    {\n",
    "        'description': 'Option 3:',\n",
    "        'options': {\n",
    "            'F': 'You selected Option 3. F',\n",
    "            'G': 'You selected Option 3. G',\n",
    "            'H': 'You selected Option 3. H'\n",
    "        }\n",
    "    }\n",
    "]\n",
    "\n",
    "# Create a list of HBox widgets for each option group\n",
    "hboxes = []\n",
    "for row in data:\n",
    "    options = row['options']\n",
    "    hbox = widgets.HBox([\n",
    "        widgets.Label(row['description'], layout=widgets.Layout(width=\"100px\")),\n",
    "        widgets.ToggleButtons(\n",
    "            options=options,\n",
    "            layout=widgets.Layout(width=\"auto\"),\n",
    "            style={\"button_width\": f\"{np.round(300/len(options))}px\"},\n",
    "        ),\n",
    "    ])\n",
    "    hboxes.append(hbox)\n",
    "\n",
    "# Create an output widget to display the selected text\n",
    "output = widgets.Output()\n",
    "\n",
    "# Define a function to handle toggle button changes\n",
    "def handle_toggle_button_change(change):\n",
    "    output.clear_output(wait=True)\n",
    "    with output:\n",
    "        for hbox in hboxes:\n",
    "            toggle_buttons = hbox.children[1]\n",
    "            print(toggle_buttons.value)\n",
    "\n",
    "# display the default output by running once\n",
    "handle_toggle_button_change(None)\n",
    "\n",
    "# Register the toggle button change event handlers\n",
    "for hbox in hboxes:\n",
    "    hbox.children[1].observe(handle_toggle_button_change, names='value')\n",
    "\n",
    "# Create a vertical box to display the toggle buttons and output widget\n",
    "vbox = widgets.VBox(hboxes + [output])\n",
    "\n",
    "# Display the vertical box\n",
    "display(vbox)"
   ]
  },
  {
   "cell_type": "code",
   "execution_count": 7,
   "metadata": {},
   "outputs": [
    {
     "data": {
      "application/vnd.jupyter.widget-view+json": {
       "model_id": "a8911c161ac04e20a942044265193039",
       "version_major": 2,
       "version_minor": 0
      },
      "text/plain": [
       "VBox(children=(HBox(children=(Label(value='Option 1', layout=Layout(width='100px')), ToggleButtons(layout=Layo…"
      ]
     },
     "metadata": {},
     "output_type": "display_data"
    }
   ],
   "source": [
    "import ipywidgets as widgets\n",
    "from IPython.display import display\n",
    "import numpy as np\n",
    "\n",
    "# Define the options for the toggle buttons\n",
    "\n",
    "options1 = {\"description\": \"Option 1\", \"options\": ['A', 'B', 'C']}\n",
    "options2 = {\"description\": \"Option 2\", \"options\": ['D', 'E']}\n",
    "options3 = {\"description\": \"Option 3\", \"options\": ['F', 'G', 'H']}\n",
    "\n",
    "option_rows = [options1, options2, options3]\n",
    "\n",
    "data = {\n",
    "    ('A', 'D'): 'You selected Option 1. A and Option 2. D',\n",
    "    ('A', 'E'): 'You selected Option 1. A and Option 2. E',\n",
    "    ('B', 'D'): 'You selected Option 1. B and Option 2. D',\n",
    "    ('B', 'E'): 'You selected Option 1. B and Option 2. E',\n",
    "    ('C', 'D'): 'You selected Option 1. C and Option 2. D',\n",
    "    ('C', 'E'): 'You selected Option 1. C and Option 2. E',\n",
    "    ('A', 'F'): 'You selected Option 1. A and Option 3. F',\n",
    "    ('A', 'G'): 'You selected Option 1. A and Option 3. G',\n",
    "    ('A', 'H'): 'You selected Option 1. A and Option 3. H',\n",
    "    ('B', 'F'): 'You selected Option 1. B and Option 3. F',\n",
    "    ('B', 'G'): 'You selected Option 1. B and Option 3. G',\n",
    "    ('B', 'H'): 'You selected Option 1. B and Option 3. H',\n",
    "    ('C', 'F'): 'You selected Option 1. C and Option 3. F',\n",
    "    ('C', 'G'): 'You selected Option 1. C and Option 3. G',\n",
    "    ('C', 'H'): 'You selected Option 1. C and Option 3. H'\n",
    "}\n",
    "\n",
    "# Create a list of HBox widgets for each option group\n",
    "hboxes = []\n",
    "for row in option_rows:\n",
    "    options = row['options']\n",
    "    hbox = widgets.HBox([\n",
    "        widgets.Label(row['description'], layout=widgets.Layout(width=\"100px\")),\n",
    "        widgets.ToggleButtons(\n",
    "            options=options,\n",
    "            layout=widgets.Layout(width=\"auto\"),\n",
    "            style={\"button_width\": f\"{np.round(300/len(options))}px\"},\n",
    "        ),\n",
    "    ])\n",
    "    hboxes.append(hbox)\n",
    "\n",
    "# Create the output widget\n",
    "output_widget = widgets.Output()\n",
    "\n",
    "# Define the function to handle the toggle button events\n",
    "def on_toggle_button_change(change):\n",
    "    output.clear_output(wait=True)\n",
    "    # Get the selected options\n",
    "    with output:\n",
    "        selected_options = [hbox.children[1].value for hbox in hboxes]\n",
    "        # Get the corresponding data entry\n",
    "        print(tuple(selected_options))\n",
    "        data_entry = data.get(tuple(selected_options), '')\n",
    "        # Update the output widget\n",
    "        print(data_entry)\n",
    "        # output_widget.value = data_entry\n",
    "\n",
    "# Register the event handler for the toggle buttons\n",
    "for toggle_button in hboxes:\n",
    "    toggle_button.observe(on_toggle_button_change, names='value')\n",
    "\n",
    "\n",
    "# Create a vertical box to display the toggle buttons and output widget\n",
    "vbox = widgets.VBox(hboxes + [output_widget])\n",
    "\n",
    "\n",
    "# Display the vertical box\n",
    "display(vbox)"
   ]
  },
  {
   "cell_type": "markdown",
   "metadata": {},
   "source": [
    "Some example GPT-4 chat prompts\n",
    "\n",
    "> Create ipywidgets code that displays different text based on a series of stacked HBox's, where each HBox contains a single ToggleButtons. Each row should correspond to one type of choice, with a description to the left of each ToggleButtons box. The descriptions should be inline with the ToggleButtons (i.e., directly to the left), and each description should be a fixed length so that all the descriptions line up nicely. Make it so the text that is displayed is below the options."
   ]
  },
  {
   "cell_type": "markdown",
   "metadata": {},
   "source": []
  }
 ],
 "metadata": {
  "kernelspec": {
   "display_name": "honegumi",
   "language": "python",
   "name": "python3"
  },
  "language_info": {
   "codemirror_mode": {
    "name": "ipython",
    "version": 3
   },
   "file_extension": ".py",
   "mimetype": "text/x-python",
   "name": "python",
   "nbconvert_exporter": "python",
   "pygments_lexer": "ipython3",
   "version": "3.10.11"
  },
  "orig_nbformat": 4
 },
 "nbformat": 4,
 "nbformat_minor": 2
}
