{
 "cells": [
  {
   "cell_type": "markdown",
   "metadata": {},
   "source": [
    "### Noisy Batch Optimization\n",
    "\n",
    "Many high performing materials suffer from poor corrosion resistance. Anti-corrosion coatings are a common solution that can be adapted to protect a given material in a number of harsh environments. You have the task of designing an anti-corrosion coating for a new material that needs to withstand a relatively high temperature corrosive environment. You decided to simulate the corrosive environment in the lab and test a number of different coatings to see which one performs the best. Based on the lab space, you see that you can specify up to nine coatings in a single test, allowing three replicates of three coating designs to be tested at once.\n",
    "\n",
    "You believe Bayesian optimization can help you in this task and decide to put together an optimization script using Honegumi to help solve this problem.\n",
    "\n",
    "Looking through the literature you identify the following tunable parameters for this problem:\n",
    "\n",
    "| | **Parameter Name** | **Bounds**  |\n",
    "|------|--------------------|-------------|\n",
    "| x1   | Resin Fraction              | [0, 1]          |\n",
    "| x2   | Inhibitor Fraction          | [0, 1]          |\n",
    "| x3   | Insulator Fraction          | [0, 1]          |\n",
    "| x4   | Stabilizer Fraction         | [0, 0.1]        |\n",
    "| x5   | Coating Thickness           | [0.1, 10]       |\n",
    "\n",
    "Additionally, you identify several constraints on the relative fractions of the different components based on prior work in the literature. Notably, you observe that the best materials keep `Resin Fraction` > `Inhibitor Fraction` > `Insulator Fraction` > `Stabilizer Fraction`.\n",
    "\n",
    "A dummy objective function that emulates the results of the corrosion experiment has been constructed in the code cell below. To simulate sample variability, random noise is added to the output of the function on call. Although we can easily find optimal values using the equations, we will pretend that the objective function is unknown and use a Bayesian optimization approach to find the optimal set of input parameters instead."
   ]
  },
  {
   "cell_type": "code",
   "execution_count": 317,
   "metadata": {},
   "outputs": [],
   "source": [
    "import numpy as np\n",
    "\n",
    "def simulate_corrosion(x1, x2, x3, x4, x5):\n",
    "    \"\"\"\n",
    "    Calculate the corrosion damage based on the input parameters.\n",
    "\n",
    "    Args:\n",
    "        x1 (float): the fraction of resin used in the coating formulation\n",
    "        x2 (float): the fraction of inhibitor used in the coating formulation\n",
    "        x3 (float): the fraction of insulator used in the coating formulation\n",
    "        x4 (float): the fraction of stabilizer used in the coating formulation\n",
    "        x5 (float): the coating thickness\n",
    "\n",
    "    Returns:\n",
    "        dict: the measured corrosion damage and  uncertainty\n",
    "    \"\"\"\n",
    "    score = float(\n",
    "        1/(np.exp(-40*(x1-0.42)**2) + np.exp(-24*(x1-0.75)**2) + 0.1) +\n",
    "        1/(np.exp(-30*(x2-0.22)**2) + np.exp(-1000*(x2-0.22)**2) + np.exp(-800*(x2-0.42)**2) + 0.15) +\n",
    "        1/(np.exp(-25*(x3-0.27)**2) + np.exp(-1000*(x3-0.27)**2) + np.exp(-150*(x3-0.37)**2) +1) +\n",
    "        1/(np.exp(-400*(x4-0.08)**2) +1) + 0.5*x4 +\n",
    "        1/(np.exp(-(x5-8)**2) + 0.05*x5 + 0.3)\n",
    "    ) - 3.18\n",
    "    \n",
    "    return (abs(score), np.random.uniform(0.01, 0.1))"
   ]
  },
  {
   "cell_type": "markdown",
   "metadata": {},
   "source": [
    "## Applying Honegumi\n",
    "\n",
    "We will now use the [Honegumi website](https://honegumi.readthedocs.io/en/latest/) to generate a script that will help us optimize the coating parameters. From the description, we observe that our problem is a **single objective** optimization problem with a **constraint on the fractional sum of coating components** and an **ordering constraint** on the relative fractions of each component. As there is room for several samples to be tested in parallel, **batch optimization** could make the approach more efficient. Lastly, it is expected that the reults will be noisy, so you decide to use a **Fully Bayesian** model to make the optimization process more robust.\n",
    "\n",
    "![Honegumi Selections for The Problem Statement](Selection-1.jpg)\n",
    "\n",
    "The Honegumi generated optimization script will provide a framework for our optimization campaign that we can modify to suit our specific problem needs. In the code sections below, we will make several modifications to this generated script to make it compatible with our problem."
   ]
  },
  {
   "cell_type": "markdown",
   "metadata": {},
   "source": [
    "## Modifying the Code for Our Problem\n",
    "\n",
    "We can modify this code to suit our problem with a few simple modifications. Wherever a modification has been made to the code, a comment starting with `# CHANGE:` has been added along with a brief description of the change."
   ]
  },
  {
   "cell_type": "code",
   "execution_count": 337,
   "metadata": {},
   "outputs": [
    {
     "name": "stderr",
     "output_type": "stream",
     "text": [
      "[INFO 05-01 08:47:30] ax.service.ax_client: Starting optimization with verbose logging. To disable logging, set the `verbose_logging` argument to `False`. Note that float values in the logs are rounded to 6 decimal points.\n",
      "[WARNING 05-01 08:47:30] ax.service.ax_client: Random seed set to 42. Note that this setting only affects the Sobol quasi-random generator and BoTorch-powered Bayesian optimization models. For the latter models, setting random seed to the same number for two optimizations will make the generated trials similar, but not exactly the same, and over time the trials will diverge more.\n",
      "[INFO 05-01 08:47:30] ax.service.utils.instantiation: Inferred value type of ParameterType.FLOAT for parameter x1. If that is not the expected value type, you can explicitly specify 'value_type' ('int', 'float', 'bool' or 'str') in parameter dict.\n",
      "[INFO 05-01 08:47:30] ax.service.utils.instantiation: Inferred value type of ParameterType.FLOAT for parameter x2. If that is not the expected value type, you can explicitly specify 'value_type' ('int', 'float', 'bool' or 'str') in parameter dict.\n",
      "[INFO 05-01 08:47:30] ax.service.utils.instantiation: Inferred value type of ParameterType.FLOAT for parameter x3. If that is not the expected value type, you can explicitly specify 'value_type' ('int', 'float', 'bool' or 'str') in parameter dict.\n",
      "[INFO 05-01 08:47:30] ax.service.utils.instantiation: Inferred value type of ParameterType.FLOAT for parameter x5. If that is not the expected value type, you can explicitly specify 'value_type' ('int', 'float', 'bool' or 'str') in parameter dict.\n",
      "[INFO 05-01 08:47:30] ax.service.utils.instantiation: Created search space: SearchSpace(parameters=[RangeParameter(name='x1', parameter_type=FLOAT, range=[0.0, 1.0]), RangeParameter(name='x2', parameter_type=FLOAT, range=[0.0, 1.0]), RangeParameter(name='x3', parameter_type=FLOAT, range=[0.0, 1.0]), RangeParameter(name='x5', parameter_type=FLOAT, range=[0.1, 10.0])], parameter_constraints=[ParameterConstraint(1.0*x1 + 1.0*x2 + 1.0*x3 <= 1.0), OrderConstraint(x2 <= x1), OrderConstraint(x3 <= x1)]).\n",
      "[INFO 05-01 08:47:30] ax.service.ax_client: Generated new trial 0 with parameters {'x1': 0.462035, 'x2': 0.140554, 'x3': 0.120071, 'x5': 7.491386} using model Sobol.\n",
      "[INFO 05-01 08:47:30] ax.service.ax_client: Generated new trial 1 with parameters {'x1': 0.681195, 'x2': 0.083172, 'x3': 0.147011, 'x5': 2.201755} using model Sobol.\n",
      "[INFO 05-01 08:47:30] ax.service.ax_client: Completed trial 0 with data: {'corrosion_score': (1.163775, 0.049476)}.\n",
      "[INFO 05-01 08:47:30] ax.service.ax_client: Completed trial 1 with data: {'corrosion_score': (2.737126, 0.048125)}.\n",
      "[INFO 05-01 08:47:30] ax.service.ax_client: Generated new trial 2 with parameters {'x1': 0.540494, 'x2': 0.28639, 'x3': 0.106513, 'x5': 3.150732} using model Sobol.\n",
      "/Users/andrewf/miniconda3/envs/ax_env/lib/python3.9/site-packages/ax/core/data.py:284: FutureWarning:\n",
      "\n",
      "The behavior of DataFrame concatenation with empty or all-NA entries is deprecated. In a future version, this will no longer exclude empty or all-NA columns when determining the result dtypes. To retain the old behavior, exclude the relevant entries before the concat operation.\n",
      "\n",
      "[INFO 05-01 08:47:30] ax.service.ax_client: Generated new trial 3 with parameters {'x1': 0.17495, 'x2': 0.00773, 'x3': 0.057119, 'x5': 9.218317} using model Sobol.\n",
      "[INFO 05-01 08:47:30] ax.service.ax_client: Completed trial 2 with data: {'corrosion_score': (2.172886, 0.019982)}.\n",
      "[INFO 05-01 08:47:30] ax.service.ax_client: Completed trial 3 with data: {'corrosion_score': (7.653779, 0.056008)}.\n",
      "[INFO 05-01 08:47:30] ax.service.ax_client: Generated new trial 4 with parameters {'x1': 0.282052, 'x2': 0.122099, 'x3': 0.234689, 'x5': 3.671898} using model Sobol.\n",
      "/Users/andrewf/miniconda3/envs/ax_env/lib/python3.9/site-packages/ax/core/data.py:284: FutureWarning:\n",
      "\n",
      "The behavior of DataFrame concatenation with empty or all-NA entries is deprecated. In a future version, this will no longer exclude empty or all-NA columns when determining the result dtypes. To retain the old behavior, exclude the relevant entries before the concat operation.\n",
      "\n",
      "[INFO 05-01 08:47:30] ax.service.ax_client: Generated new trial 5 with parameters {'x1': 0.369966, 'x2': 0.357531, 'x3': 0.268685, 'x5': 7.204235} using model Sobol.\n",
      "[INFO 05-01 08:47:30] ax.service.ax_client: Completed trial 4 with data: {'corrosion_score': (3.35743, 0.092051)}.\n",
      "[INFO 05-01 08:47:30] ax.service.ax_client: Completed trial 5 with data: {'corrosion_score': (1.162666, 0.012073)}.\n",
      "Sample: 100%|██████████| 2048/2048 [00:29, 69.31it/s, step size=3.53e-01, acc. prob=0.912]\n",
      "[INFO 05-01 08:48:03] ax.service.ax_client: Generated new trial 6 with parameters {'x1': 1.0, 'x2': 0.0, 'x3': 0.0, 'x5': 6.657872} using model FullyBayesian.\n",
      "/Users/andrewf/miniconda3/envs/ax_env/lib/python3.9/site-packages/ax/core/data.py:284: FutureWarning:\n",
      "\n",
      "The behavior of DataFrame concatenation with empty or all-NA entries is deprecated. In a future version, this will no longer exclude empty or all-NA columns when determining the result dtypes. To retain the old behavior, exclude the relevant entries before the concat operation.\n",
      "\n",
      "[INFO 05-01 08:48:03] ax.modelbridge.torch: The observations are identical to the last set of observations used to fit the model. Skipping model fitting.\n",
      "Warmup:   9%|▊         | 178/2048 [03:56,  1.33s/it, step size=4.18e-01, acc. prob=0.778]\n",
      "Warmup:   5%|▌         | 108/2048 [01:52,  1.05s/it, step size=8.54e-01, acc. prob=0.781]\n",
      "[INFO 05-01 08:48:07] ax.service.ax_client: Generated new trial 7 with parameters {'x1': 1.0, 'x2': 0.0, 'x3': 0.0, 'x5': 6.658105} using model FullyBayesian.\n",
      "[INFO 05-01 08:48:07] ax.service.ax_client: Completed trial 6 with data: {'corrosion_score': (5.56047, 0.016152)}.\n",
      "[INFO 05-01 08:48:07] ax.service.ax_client: Completed trial 7 with data: {'corrosion_score': (5.56029, 0.082192)}.\n",
      "Sample: 100%|██████████| 2048/2048 [00:30, 66.32it/s, step size=3.76e-01, acc. prob=0.868]\n",
      "[INFO 05-01 08:48:41] ax.service.ax_client: Generated new trial 8 with parameters {'x1': 0.5, 'x2': 0.0, 'x3': 0.5, 'x5': 10.0} using model FullyBayesian.\n",
      "/Users/andrewf/miniconda3/envs/ax_env/lib/python3.9/site-packages/ax/core/data.py:284: FutureWarning:\n",
      "\n",
      "The behavior of DataFrame concatenation with empty or all-NA entries is deprecated. In a future version, this will no longer exclude empty or all-NA columns when determining the result dtypes. To retain the old behavior, exclude the relevant entries before the concat operation.\n",
      "\n",
      "[INFO 05-01 08:48:41] ax.modelbridge.torch: The observations are identical to the last set of observations used to fit the model. Skipping model fitting.\n",
      "[INFO 05-01 08:48:45] ax.service.ax_client: Generated new trial 9 with parameters {'x1': 0.5, 'x2': 0.0, 'x3': 0.5, 'x5': 7.195933} using model FullyBayesian.\n",
      "[INFO 05-01 08:48:45] ax.service.ax_client: Completed trial 8 with data: {'corrosion_score': (3.228185, 0.015832)}.\n",
      "[INFO 05-01 08:48:45] ax.service.ax_client: Completed trial 9 with data: {'corrosion_score': (2.850999, 0.079142)}.\n",
      "Sample: 100%|██████████| 2048/2048 [00:26, 76.71it/s, step size=3.86e-01, acc. prob=0.895]\n",
      "[INFO 05-01 08:49:16] ax.service.ax_client: Generated new trial 10 with parameters {'x1': 0.424484, 'x2': 0.424484, 'x3': 0.0, 'x5': 7.339948} using model FullyBayesian.\n",
      "/Users/andrewf/miniconda3/envs/ax_env/lib/python3.9/site-packages/ax/core/data.py:284: FutureWarning:\n",
      "\n",
      "The behavior of DataFrame concatenation with empty or all-NA entries is deprecated. In a future version, this will no longer exclude empty or all-NA columns when determining the result dtypes. To retain the old behavior, exclude the relevant entries before the concat operation.\n",
      "\n",
      "[INFO 05-01 08:49:16] ax.modelbridge.torch: The observations are identical to the last set of observations used to fit the model. Skipping model fitting.\n",
      "[INFO 05-01 08:49:20] ax.service.ax_client: Generated new trial 11 with parameters {'x1': 0.424514, 'x2': 0.424514, 'x3': 0.0, 'x5': 7.345266} using model FullyBayesian.\n",
      "[INFO 05-01 08:49:20] ax.service.ax_client: Completed trial 10 with data: {'corrosion_score': (0.953817, 0.019769)}.\n",
      "[INFO 05-01 08:49:20] ax.service.ax_client: Completed trial 11 with data: {'corrosion_score': (0.950801, 0.022215)}.\n",
      "Sample: 100%|██████████| 2048/2048 [00:22, 89.76it/s, step size=5.13e-01, acc. prob=0.835] \n",
      "[INFO 05-01 08:49:46] ax.service.ax_client: Generated new trial 12 with parameters {'x1': 0.426213, 'x2': 0.0, 'x3': 0.0, 'x5': 0.1} using model FullyBayesian.\n",
      "/Users/andrewf/miniconda3/envs/ax_env/lib/python3.9/site-packages/ax/core/data.py:284: FutureWarning:\n",
      "\n",
      "The behavior of DataFrame concatenation with empty or all-NA entries is deprecated. In a future version, this will no longer exclude empty or all-NA columns when determining the result dtypes. To retain the old behavior, exclude the relevant entries before the concat operation.\n",
      "\n",
      "[INFO 05-01 08:49:46] ax.modelbridge.torch: The observations are identical to the last set of observations used to fit the model. Skipping model fitting.\n",
      "[INFO 05-01 08:49:52] ax.service.ax_client: Generated new trial 13 with parameters {'x1': 0.5, 'x2': 0.5, 'x3': 0.0, 'x5': 10.0} using model FullyBayesian.\n",
      "[INFO 05-01 08:49:52] ax.service.ax_client: Completed trial 12 with data: {'corrosion_score': (5.697937, 0.069679)}.\n",
      "[INFO 05-01 08:49:52] ax.service.ax_client: Completed trial 13 with data: {'corrosion_score': (4.724092, 0.051947)}.\n",
      "Sample: 100%|██████████| 2048/2048 [00:32, 62.65it/s, step size=3.01e-01, acc. prob=0.918]\n",
      "[INFO 05-01 08:50:29] ax.service.ax_client: Generated new trial 14 with parameters {'x1': 0.420853, 'x2': 0.344086, 'x3': 0.0, 'x5': 5.92896} using model FullyBayesian.\n",
      "/Users/andrewf/miniconda3/envs/ax_env/lib/python3.9/site-packages/ax/core/data.py:284: FutureWarning:\n",
      "\n",
      "The behavior of DataFrame concatenation with empty or all-NA entries is deprecated. In a future version, this will no longer exclude empty or all-NA columns when determining the result dtypes. To retain the old behavior, exclude the relevant entries before the concat operation.\n",
      "\n",
      "[INFO 05-01 08:50:29] ax.modelbridge.torch: The observations are identical to the last set of observations used to fit the model. Skipping model fitting.\n",
      "[INFO 05-01 08:50:36] ax.service.ax_client: Generated new trial 15 with parameters {'x1': 0.619151, 'x2': 0.230517, 'x3': 0.150332, 'x5': 7.898638} using model FullyBayesian.\n",
      "[INFO 05-01 08:50:36] ax.service.ax_client: Completed trial 14 with data: {'corrosion_score': (2.554639, 0.05664)}.\n",
      "[INFO 05-01 08:50:36] ax.service.ax_client: Completed trial 15 with data: {'corrosion_score': (0.45323, 0.083762)}.\n",
      "Sample: 100%|██████████| 2048/2048 [00:40, 50.65it/s, step size=2.53e-01, acc. prob=0.903]\n",
      "[INFO 05-01 08:51:21] ax.service.ax_client: Generated new trial 16 with parameters {'x1': 0.81943, 'x2': 0.18057, 'x3': 0.0, 'x5': 8.956439} using model FullyBayesian.\n",
      "/Users/andrewf/miniconda3/envs/ax_env/lib/python3.9/site-packages/ax/core/data.py:284: FutureWarning:\n",
      "\n",
      "The behavior of DataFrame concatenation with empty or all-NA entries is deprecated. In a future version, this will no longer exclude empty or all-NA columns when determining the result dtypes. To retain the old behavior, exclude the relevant entries before the concat operation.\n",
      "\n",
      "[INFO 05-01 08:51:21] ax.modelbridge.torch: The observations are identical to the last set of observations used to fit the model. Skipping model fitting.\n",
      "[INFO 05-01 08:51:26] ax.service.ax_client: Generated new trial 17 with parameters {'x1': 0.819333, 'x2': 0.180667, 'x3': 0.0, 'x5': 8.951648} using model FullyBayesian.\n",
      "[INFO 05-01 08:51:26] ax.service.ax_client: Completed trial 16 with data: {'corrosion_score': (1.247548, 0.044192)}.\n",
      "[INFO 05-01 08:51:26] ax.service.ax_client: Completed trial 17 with data: {'corrosion_score': (1.243592, 0.038841)}.\n",
      "Sample: 100%|██████████| 2048/2048 [00:33, 61.85it/s, step size=3.20e-01, acc. prob=0.874]\n",
      "[INFO 05-01 08:52:04] ax.service.ax_client: Generated new trial 18 with parameters {'x1': 0.553224, 'x2': 0.184695, 'x3': 0.262081, 'x5': 8.289913} using model FullyBayesian.\n",
      "/Users/andrewf/miniconda3/envs/ax_env/lib/python3.9/site-packages/ax/core/data.py:284: FutureWarning:\n",
      "\n",
      "The behavior of DataFrame concatenation with empty or all-NA entries is deprecated. In a future version, this will no longer exclude empty or all-NA columns when determining the result dtypes. To retain the old behavior, exclude the relevant entries before the concat operation.\n",
      "\n",
      "[INFO 05-01 08:52:04] ax.modelbridge.torch: The observations are identical to the last set of observations used to fit the model. Skipping model fitting.\n",
      "[INFO 05-01 08:52:09] ax.service.ax_client: Generated new trial 19 with parameters {'x1': 0.553114, 'x2': 0.184659, 'x3': 0.262227, 'x5': 8.29011} using model FullyBayesian.\n",
      "[INFO 05-01 08:52:09] ax.service.ax_client: Completed trial 18 with data: {'corrosion_score': (0.409177, 0.034298)}.\n",
      "[INFO 05-01 08:52:09] ax.service.ax_client: Completed trial 19 with data: {'corrosion_score': (0.409134, 0.061954)}.\n",
      "Sample: 100%|██████████| 2048/2048 [00:39, 51.86it/s, step size=2.33e-01, acc. prob=0.921]\n"
     ]
    }
   ],
   "source": [
    "import numpy as np\n",
    "from ax.service.ax_client import AxClient, ObjectiveProperties\n",
    "\n",
    "from ax.modelbridge.factory import Models\n",
    "from ax.modelbridge.generation_strategy import GenerationStep, GenerationStrategy\n",
    "\n",
    "\n",
    "obj1_name = \"corrosion_score\" # CHANGE: update objective name\n",
    "\n",
    "# CHANGE: remove the branin dummy objective function, we will use the above function\n",
    "\n",
    "total = 1.0 # CHANGE: update total component fraction\n",
    "\n",
    "\n",
    "gs = GenerationStrategy(\n",
    "    steps=[\n",
    "        GenerationStep(\n",
    "            model=Models.SOBOL,\n",
    "            num_trials=6,\n",
    "            min_trials_observed=3,\n",
    "            max_parallelism=5,\n",
    "            model_kwargs={\"seed\": 999},\n",
    "            model_gen_kwargs={},\n",
    "        ),\n",
    "        GenerationStep(\n",
    "            model=Models.FULLYBAYESIAN,\n",
    "            num_trials=-1,\n",
    "            max_parallelism=3,\n",
    "            should_deduplicate=True, # CHANGE: reduce duplicate suggestions\n",
    "            model_kwargs={\"num_samples\": 1024, \"warmup_steps\": 1024}, # CHANGE: increase\n",
    "        ),\n",
    "    ]\n",
    ")\n",
    "\n",
    "ax_client = AxClient(generation_strategy=gs, random_seed=42) # CHANGE: add random seed for reproducibility\n",
    "\n",
    "ax_client.create_experiment(\n",
    "    parameters=[\n",
    "        {\"name\": \"x1\", \"type\": \"range\", \"bounds\": [0.0, total]}, # CHANGE: update parameter\n",
    "        {\"name\": \"x2\", \"type\": \"range\", \"bounds\": [0.0, total]}, # CHANGE: update parameter\n",
    "        {\"name\": \"x3\", \"type\": \"range\", \"bounds\": [0.0, total]}, # CHANGE: add new parameter\n",
    "        {\"name\": \"x5\", \"type\": \"range\", \"bounds\": [0.1, 10.0]}, # CHANGE: add new parameter\n",
    "    ],\n",
    "    objectives={\n",
    "        obj1_name: ObjectiveProperties(minimize=True),\n",
    "    },\n",
    "    parameter_constraints=[\n",
    "        f\"x1 + x2 + x3 <= {total}\", # CHANGE: update composition constraint\n",
    "        \"x1 >= x2\", # CHANGE: update order constraint\n",
    "        \"x1 >= x3\", # CHANGE: add order constraint\n",
    "    ],\n",
    ")\n",
    "\n",
    "batch_size = 2\n",
    "\n",
    "for _ in range(10): # CHANGE: decrease number of iterations\n",
    "\n",
    "    parameterizations, optimization_complete = ax_client.get_next_trials(batch_size)\n",
    "    for trial_index, parameterization in list(parameterizations.items()):\n",
    "        \n",
    "        # CHANGE: pull all added parameters from the parameterization\n",
    "        x1 = parameterization[\"x1\"]\n",
    "        x2 = parameterization[\"x2\"]\n",
    "        x3 = parameterization[\"x3\"]\n",
    "        x4 = total - (x1 + x2 + x3) # CHANGE: update composition constraint\n",
    "        x5 = parameterization[\"x5\"]\n",
    "\n",
    "        results = simulate_corrosion(x1, x2, x3, x4, x5)\n",
    "        ax_client.complete_trial(trial_index=trial_index, raw_data=results)\n",
    "\n",
    "best_parameters, metrics = ax_client.get_best_parameters()"
   ]
  },
  {
   "cell_type": "markdown",
   "metadata": {},
   "source": [
    "### Show the Best Parameters\n",
    "\n",
    "After our optimization loop has completed, we can use the model to find the best parameters and their corresponding strength value. These will be our optimial set of parameters that we use in the 3D printer going forward."
   ]
  },
  {
   "cell_type": "code",
   "execution_count": 338,
   "metadata": {},
   "outputs": [
    {
     "name": "stderr",
     "output_type": "stream",
     "text": [
      "Sample: 100%|██████████| 2048/2048 [00:42, 47.73it/s, step size=2.50e-01, acc. prob=0.877]\n"
     ]
    },
    {
     "data": {
      "text/plain": [
       "(19,\n",
       " {'x1': 0.5531141417704178,\n",
       "  'x2': 0.1846591406143514,\n",
       "  'x3': 0.26222671761513805,\n",
       "  'x5': 8.2901097602077},\n",
       " ({'corrosion_score': 0.41040928033269086},\n",
       "  {'corrosion_score': {'corrosion_score': 0.0008997393689987544}}))"
      ]
     },
     "execution_count": 338,
     "metadata": {},
     "output_type": "execute_result"
    }
   ],
   "source": [
    "ax_client.get_best_trial()"
   ]
  },
  {
   "cell_type": "markdown",
   "metadata": {},
   "source": [
    "### Plotting Optimization Performance\n",
    "\n",
    "We can plot the performance of our optmization loop to see how the optimization task progressed as a function of iteration count."
   ]
  },
  {
   "cell_type": "code",
   "execution_count": 339,
   "metadata": {},
   "outputs": [
    {
     "name": "stderr",
     "output_type": "stream",
     "text": [
      "[WARNING 05-01 08:58:34] ax.service.utils.report_utils: Column reason missing for all trials. Not appending column.\n"
     ]
    },
    {
     "data": {
      "text/plain": [
       "(0.0, 2.0)"
      ]
     },
     "execution_count": 339,
     "metadata": {},
     "output_type": "execute_result"
    },
    {
     "data": {
      "image/png": "[encoded data removed]",
      "text/plain": [
       "<Figure size 720x480 with 1 Axes>"
      ]
     },
     "metadata": {},
     "output_type": "display_data"
    }
   ],
   "source": [
    "import matplotlib.pyplot as plt\n",
    "h_blue = '#0033FF'\n",
    "\n",
    "df = ax_client.get_trials_data_frame()\n",
    "fig, ax = plt.subplots(figsize=(6,4), dpi=120)\n",
    "ax.plot(df.corrosion_score.values, ls='None', marker='o', mfc='none', mec='black')\n",
    "ax.plot(np.minimum.accumulate(df.corrosion_score.values), color=h_blue)\n",
    "plt.xlabel('Trial')\n",
    "plt.ylabel('Corrosion Score [lower is better]')\n",
    "plt.ylim(0, 2)"
   ]
  },
  {
   "cell_type": "code",
   "execution_count": 340,
   "metadata": {},
   "outputs": [
    {
     "data": {
      "application/vnd.plotly.v1+json": {
       "config": {
        "linkText": "Export to plot.ly",
        "plotlyServerURL": "https://plot.ly",
        "showLink": false
       },
       "data": [
        {
         "hoverinfo": "none",
         "line": {
          "color": "black",
          "dash": "dot",
          "width": 2
         },
         "mode": "lines",
         "showlegend": false,
         "type": "scatter",
         "visible": true,
         "x": [
          -3.952154604781554,
          10.903313786058435
         ],
         "y": [
          -3.952154604781554,
          10.903313786058435
         ]
        },
        {
         "error_x": {
          "array": [
           0.09697307193758328,
           0.09432580615956097,
           0.03916477554641934,
           0.10977525367163038,
           0.18041947262022728,
           0.023662859070073566,
           0.0316572302731216,
           0.16109585493320808,
           0.03103124681089616,
           0.15511805238701318,
           0.03874663888694734,
           0.04354174301098419,
           0.13657119941037701,
           0.1018157587494321,
           0.1110139250248606,
           0.1641737784542783,
           0.08661683840337824,
           0.07612889196206886
          ],
          "color": "rgba(128,177,211,0.4)",
          "type": "data"
         },
         "error_y": {
          "array": [
           2.7256679784174875,
           4.199633838796122,
           3.599793582557131,
           5.2253166045607005,
           4.516845300842414,
           3.0953335998152287,
           0.16104538196927914,
           0.03166602726203759,
           4.657165685333809,
           3.574701887771811,
           0.045083000885533506,
           0.040628188869374526,
           6.458009708196848,
           5.374882199652275,
           3.9081294574205843,
           2.977922279320509,
           0.07742037877804649,
           0.08754464854448725
          ],
          "color": "rgba(128,177,211,0.4)",
          "type": "data"
         },
         "hoverinfo": "text",
         "marker": {
          "color": "rgba(128,177,211,1)"
         },
         "mode": "markers",
         "name": "In-sample",
         "showlegend": true,
         "text": [
          "<b>Arm 0_0</b><br><br>Actual Outcome: 1.164 [1.067, 1.261]<br>Predicted Outcome: 2.102 [-0.624, 4.828]<br><br><em>Parameterization:</em><br>x1: 0.46203490160405636<br>x2: 0.1405540555715561<br>x3: 0.12007084302604198<br>x5: 7.49138588104397",
          "<b>Arm 1_0</b><br><br>Actual Outcome: 2.737 [2.643, 2.831]<br>Predicted Outcome: 3.082 [-1.118, 7.281]<br><br><em>Parameterization:</em><br>x1: 0.6811950104311109<br>x2: 0.08317248616367579<br>x3: 0.14701138995587826<br>x5: 2.201754858437926",
          "<b>Arm 2_0</b><br><br>Actual Outcome: 2.173 [2.134, 2.212]<br>Predicted Outcome: 3.007 [-0.593, 6.607]<br><br><em>Parameterization:</em><br>x1: 0.5404942771419883<br>x2: 0.28639009688049555<br>x3: 0.10651267971843481<br>x5: 3.1507322339341046",
          "<b>Arm 3_0</b><br><br>Actual Outcome: 7.654 [7.544, 7.764]<br>Predicted Outcome: 3.416 [-1.809, 8.641]<br><br><em>Parameterization:</em><br>x1: 0.17495027277618647<br>x2: 0.007729803211987019<br>x3: 0.0571193927899003<br>x5: 9.218316878192127",
          "<b>Arm 4_0</b><br><br>Actual Outcome: 3.357 [3.177, 3.538]<br>Predicted Outcome: 2.838 [-1.679, 7.354]<br><br><em>Parameterization:</em><br>x1: 0.2820521341636777<br>x2: 0.12209852878004313<br>x3: 0.23468931019306183<br>x5: 3.671897889301181",
          "<b>Arm 5_0</b><br><br>Actual Outcome: 1.163 [1.139, 1.186]<br>Predicted Outcome: 1.707 [-1.388, 4.803]<br><br><em>Parameterization:</em><br>x1: 0.36996550764888525<br>x2: 0.35753058083355427<br>x3: 0.2686848407611251<br>x5: 7.204235409293323",
          "<b>Arm 6_0</b><br><br>Actual Outcome: 5.56 [5.529, 5.592]<br>Predicted Outcome: 5.557 [5.396, 5.718]<br><br><em>Parameterization:</em><br>x1: 0.9999999999999886<br>x2: 0.0<br>x3: 1.2886717519318773e-14<br>x5: 6.657871762887141",
          "<b>Arm 7_0</b><br><br>Actual Outcome: 5.56 [5.399, 5.721]<br>Predicted Outcome: 5.56 [5.529, 5.592]<br><br><em>Parameterization:</em><br>x1: 1.0<br>x2: 5.879023101716506e-16<br>x3: 8.221970846891384e-16<br>x5: 6.658104954751326",
          "<b>Arm 8_0</b><br><br>Actual Outcome: 3.228 [3.197, 3.259]<br>Predicted Outcome: 4.24 [-0.417, 8.897]<br><br><em>Parameterization:</em><br>x1: 0.5000000000004156<br>x2: 0.0<br>x3: 0.5000000000021749<br>x5: 9.999999999999234",
          "<b>Arm 9_0</b><br><br>Actual Outcome: 2.851 [2.696, 3.006]<br>Predicted Outcome: 2.316 [-1.259, 5.891]<br><br><em>Parameterization:</em><br>x1: 0.49999999999999983<br>x2: 2.9442422767142952e-15<br>x3: 0.5000000000000115<br>x5: 7.195932963944851",
          "<b>Arm 10_0</b><br><br>Actual Outcome: 0.954 [0.915, 0.993]<br>Predicted Outcome: 0.952 [0.907, 0.997]<br><br><em>Parameterization:</em><br>x1: 0.4244838630578679<br>x2: 0.42448386306381597<br>x3: 2.1289729987226923e-11<br>x5: 7.339947666832862",
          "<b>Arm 11_0</b><br><br>Actual Outcome: 0.951 [0.907, 0.994]<br>Predicted Outcome: 0.953 [0.912, 0.994]<br><br><em>Parameterization:</em><br>x1: 0.4245136618061755<br>x2: 0.42451366180615974<br>x3: 0.0<br>x5: 7.345265540626473",
          "<b>Arm 12_0</b><br><br>Actual Outcome: 5.698 [5.561, 5.835]<br>Predicted Outcome: 3.77 [-2.688, 10.228]<br><br><em>Parameterization:</em><br>x1: 0.4262126487368945<br>x2: 8.147112918011196e-16<br>x3: 4.376823862696568e-15<br>x5: 0.1000000000000202",
          "<b>Arm 13_0</b><br><br>Actual Outcome: 4.724 [4.622, 4.826]<br>Predicted Outcome: 2.098 [-3.277, 7.473]<br><br><em>Parameterization:</em><br>x1: 0.5000000000012181<br>x2: 0.5000000000106196<br>x3: 0.0<br>x5: 10.0",
          "<b>Arm 14_0</b><br><br>Actual Outcome: 2.555 [2.444, 2.666]<br>Predicted Outcome: 1.663 [-2.245, 5.571]<br><br><em>Parameterization:</em><br>x1: 0.42085294074668167<br>x2: 0.3440857934253744<br>x3: 0.0<br>x5: 5.928959908522031",
          "<b>Arm 15_0</b><br><br>Actual Outcome: 0.453 [0.289, 0.617]<br>Predicted Outcome: 1.004 [-1.974, 3.981]<br><br><em>Parameterization:</em><br>x1: 0.6191508786933483<br>x2: 0.23051694149204408<br>x3: 0.1503321798146068<br>x5: 7.898638178540372",
          "<b>Arm 16_0</b><br><br>Actual Outcome: 1.248 [1.161, 1.334]<br>Predicted Outcome: 1.246 [1.169, 1.324]<br><br><em>Parameterization:</em><br>x1: 0.8194301997175271<br>x2: 0.18056980028249606<br>x3: 2.299616162607646e-15<br>x5: 8.956439436443388",
          "<b>Arm 17_0</b><br><br>Actual Outcome: 1.244 [1.167, 1.320]<br>Predicted Outcome: 1.245 [1.158, 1.333]<br><br><em>Parameterization:</em><br>x1: 0.8193333945709272<br>x2: 0.18066660542907836<br>x3: 0.0<br>x5: 8.951647627618732"
         ],
         "type": "scatter",
         "visible": true,
         "x": [
          1.1637748514190176,
          2.7371261343507274,
          2.1728861476173438,
          7.653779219276586,
          3.3574303343959673,
          1.1626663489625728,
          5.560470369357521,
          5.5602897702587555,
          3.2281845802895037,
          2.8509992024517383,
          0.953817334433674,
          0.9508013533028197,
          5.697936838066944,
          4.7240923300902775,
          2.55463885701626,
          0.45323031180355544,
          1.247548031754366,
          1.2435919914412081
         ],
         "y": [
          2.102091278956899,
          3.0818544551702387,
          3.0070574018667036,
          3.4158654322816258,
          2.8375954991177417,
          1.7072225760669248,
          5.557351121990914,
          5.560187764542006,
          4.240162969938776,
          2.3160229549868583,
          0.9522162444816504,
          0.9529349604944826,
          3.770055514641586,
          2.09797615809072,
          1.662826192337171,
          1.0035465684178826,
          1.2464475640682549,
          1.2451972626406453
         ]
        }
       ],
       "layout": {
        "annotations": [
         {
          "showarrow": false,
          "text": "Show CI",
          "x": 1.125,
          "xanchor": "left",
          "xref": "paper",
          "y": 0.9,
          "yanchor": "middle",
          "yref": "paper"
         }
        ],
        "height": 500,
        "hovermode": "closest",
        "margin": {
         "b": 90
        },
        "showlegend": false,
        "template": {
         "data": {
          "bar": [
           {
            "error_x": {
             "color": "#2a3f5f"
            },
            "error_y": {
             "color": "#2a3f5f"
            },
            "marker": {
             "line": {
              "color": "#E5ECF6",
              "width": 0.5
             },
             "pattern": {
              "fillmode": "overlay",
              "size": 10,
              "solidity": 0.2
             }
            },
            "type": "bar"
           }
          ],
          "barpolar": [
           {
            "marker": {
             "line": {
              "color": "#E5ECF6",
              "width": 0.5
             },
             "pattern": {
              "fillmode": "overlay",
              "size": 10,
              "solidity": 0.2
             }
            },
            "type": "barpolar"
           }
          ],
          "carpet": [
           {
            "aaxis": {
             "endlinecolor": "#2a3f5f",
             "gridcolor": "white",
             "linecolor": "white",
             "minorgridcolor": "white",
             "startlinecolor": "#2a3f5f"
            },
            "baxis": {
             "endlinecolor": "#2a3f5f",
             "gridcolor": "white",
             "linecolor": "white",
             "minorgridcolor": "white",
             "startlinecolor": "#2a3f5f"
            },
            "type": "carpet"
           }
          ],
          "choropleth": [
           {
            "colorbar": {
             "outlinewidth": 0,
             "ticks": ""
            },
            "type": "choropleth"
           }
          ],
          "contour": [
           {
            "colorbar": {
             "outlinewidth": 0,
             "ticks": ""
            },
            "colorscale": [
             [
              0,
              "#0d0887"
             ],
             [
              0.1111111111111111,
              "#46039f"
             ],
             [
              0.2222222222222222,
              "#7201a8"
             ],
             [
              0.3333333333333333,
              "#9c179e"
             ],
             [
              0.4444444444444444,
              "#bd3786"
             ],
             [
              0.5555555555555556,
              "#d8576b"
             ],
             [
              0.6666666666666666,
              "#ed7953"
             ],
             [
              0.7777777777777778,
              "#fb9f3a"
             ],
             [
              0.8888888888888888,
              "#fdca26"
             ],
             [
              1,
              "#f0f921"
             ]
            ],
            "type": "contour"
           }
          ],
          "contourcarpet": [
           {
            "colorbar": {
             "outlinewidth": 0,
             "ticks": ""
            },
            "type": "contourcarpet"
           }
          ],
          "heatmap": [
           {
            "colorbar": {
             "outlinewidth": 0,
             "ticks": ""
            },
            "colorscale": [
             [
              0,
              "#0d0887"
             ],
             [
              0.1111111111111111,
              "#46039f"
             ],
             [
              0.2222222222222222,
              "#7201a8"
             ],
             [
              0.3333333333333333,
              "#9c179e"
             ],
             [
              0.4444444444444444,
              "#bd3786"
             ],
             [
              0.5555555555555556,
              "#d8576b"
             ],
             [
              0.6666666666666666,
              "#ed7953"
             ],
             [
              0.7777777777777778,
              "#fb9f3a"
             ],
             [
              0.8888888888888888,
              "#fdca26"
             ],
             [
              1,
              "#f0f921"
             ]
            ],
            "type": "heatmap"
           }
          ],
          "heatmapgl": [
           {
            "colorbar": {
             "outlinewidth": 0,
             "ticks": ""
            },
            "colorscale": [
             [
              0,
              "#0d0887"
             ],
             [
              0.1111111111111111,
              "#46039f"
             ],
             [
              0.2222222222222222,
              "#7201a8"
             ],
             [
              0.3333333333333333,
              "#9c179e"
             ],
             [
              0.4444444444444444,
              "#bd3786"
             ],
             [
              0.5555555555555556,
              "#d8576b"
             ],
             [
              0.6666666666666666,
              "#ed7953"
             ],
             [
              0.7777777777777778,
              "#fb9f3a"
             ],
             [
              0.8888888888888888,
              "#fdca26"
             ],
             [
              1,
              "#f0f921"
             ]
            ],
            "type": "heatmapgl"
           }
          ],
          "histogram": [
           {
            "marker": {
             "pattern": {
              "fillmode": "overlay",
              "size": 10,
              "solidity": 0.2
             }
            },
            "type": "histogram"
           }
          ],
          "histogram2d": [
           {
            "colorbar": {
             "outlinewidth": 0,
             "ticks": ""
            },
            "colorscale": [
             [
              0,
              "#0d0887"
             ],
             [
              0.1111111111111111,
              "#46039f"
             ],
             [
              0.2222222222222222,
              "#7201a8"
             ],
             [
              0.3333333333333333,
              "#9c179e"
             ],
             [
              0.4444444444444444,
              "#bd3786"
             ],
             [
              0.5555555555555556,
              "#d8576b"
             ],
             [
              0.6666666666666666,
              "#ed7953"
             ],
             [
              0.7777777777777778,
              "#fb9f3a"
             ],
             [
              0.8888888888888888,
              "#fdca26"
             ],
             [
              1,
              "#f0f921"
             ]
            ],
            "type": "histogram2d"
           }
          ],
          "histogram2dcontour": [
           {
            "colorbar": {
             "outlinewidth": 0,
             "ticks": ""
            },
            "colorscale": [
             [
              0,
              "#0d0887"
             ],
             [
              0.1111111111111111,
              "#46039f"
             ],
             [
              0.2222222222222222,
              "#7201a8"
             ],
             [
              0.3333333333333333,
              "#9c179e"
             ],
             [
              0.4444444444444444,
              "#bd3786"
             ],
             [
              0.5555555555555556,
              "#d8576b"
             ],
             [
              0.6666666666666666,
              "#ed7953"
             ],
             [
              0.7777777777777778,
              "#fb9f3a"
             ],
             [
              0.8888888888888888,
              "#fdca26"
             ],
             [
              1,
              "#f0f921"
             ]
            ],
            "type": "histogram2dcontour"
           }
          ],
          "mesh3d": [
           {
            "colorbar": {
             "outlinewidth": 0,
             "ticks": ""
            },
            "type": "mesh3d"
           }
          ],
          "parcoords": [
           {
            "line": {
             "colorbar": {
              "outlinewidth": 0,
              "ticks": ""
             }
            },
            "type": "parcoords"
           }
          ],
          "pie": [
           {
            "automargin": true,
            "type": "pie"
           }
          ],
          "scatter": [
           {
            "fillpattern": {
             "fillmode": "overlay",
             "size": 10,
             "solidity": 0.2
            },
            "type": "scatter"
           }
          ],
          "scatter3d": [
           {
            "line": {
             "colorbar": {
              "outlinewidth": 0,
              "ticks": ""
             }
            },
            "marker": {
             "colorbar": {
              "outlinewidth": 0,
              "ticks": ""
             }
            },
            "type": "scatter3d"
           }
          ],
          "scattercarpet": [
           {
            "marker": {
             "colorbar": {
              "outlinewidth": 0,
              "ticks": ""
             }
            },
            "type": "scattercarpet"
           }
          ],
          "scattergeo": [
           {
            "marker": {
             "colorbar": {
              "outlinewidth": 0,
              "ticks": ""
             }
            },
            "type": "scattergeo"
           }
          ],
          "scattergl": [
           {
            "marker": {
             "colorbar": {
              "outlinewidth": 0,
              "ticks": ""
             }
            },
            "type": "scattergl"
           }
          ],
          "scattermapbox": [
           {
            "marker": {
             "colorbar": {
              "outlinewidth": 0,
              "ticks": ""
             }
            },
            "type": "scattermapbox"
           }
          ],
          "scatterpolar": [
           {
            "marker": {
             "colorbar": {
              "outlinewidth": 0,
              "ticks": ""
             }
            },
            "type": "scatterpolar"
           }
          ],
          "scatterpolargl": [
           {
            "marker": {
             "colorbar": {
              "outlinewidth": 0,
              "ticks": ""
             }
            },
            "type": "scatterpolargl"
           }
          ],
          "scatterternary": [
           {
            "marker": {
             "colorbar": {
              "outlinewidth": 0,
              "ticks": ""
             }
            },
            "type": "scatterternary"
           }
          ],
          "surface": [
           {
            "colorbar": {
             "outlinewidth": 0,
             "ticks": ""
            },
            "colorscale": [
             [
              0,
              "#0d0887"
             ],
             [
              0.1111111111111111,
              "#46039f"
             ],
             [
              0.2222222222222222,
              "#7201a8"
             ],
             [
              0.3333333333333333,
              "#9c179e"
             ],
             [
              0.4444444444444444,
              "#bd3786"
             ],
             [
              0.5555555555555556,
              "#d8576b"
             ],
             [
              0.6666666666666666,
              "#ed7953"
             ],
             [
              0.7777777777777778,
              "#fb9f3a"
             ],
             [
              0.8888888888888888,
              "#fdca26"
             ],
             [
              1,
              "#f0f921"
             ]
            ],
            "type": "surface"
           }
          ],
          "table": [
           {
            "cells": {
             "fill": {
              "color": "#EBF0F8"
             },
             "line": {
              "color": "white"
             }
            },
            "header": {
             "fill": {
              "color": "#C8D4E3"
             },
             "line": {
              "color": "white"
             }
            },
            "type": "table"
           }
          ]
         },
         "layout": {
          "annotationdefaults": {
           "arrowcolor": "#2a3f5f",
           "arrowhead": 0,
           "arrowwidth": 1
          },
          "autotypenumbers": "strict",
          "coloraxis": {
           "colorbar": {
            "outlinewidth": 0,
            "ticks": ""
           }
          },
          "colorscale": {
           "diverging": [
            [
             0,
             "#8e0152"
            ],
            [
             0.1,
             "#c51b7d"
            ],
            [
             0.2,
             "#de77ae"
            ],
            [
             0.3,
             "#f1b6da"
            ],
            [
             0.4,
             "#fde0ef"
            ],
            [
             0.5,
             "#f7f7f7"
            ],
            [
             0.6,
             "#e6f5d0"
            ],
            [
             0.7,
             "#b8e186"
            ],
            [
             0.8,
             "#7fbc41"
            ],
            [
             0.9,
             "#4d9221"
            ],
            [
             1,
             "#276419"
            ]
           ],
           "sequential": [
            [
             0,
             "#0d0887"
            ],
            [
             0.1111111111111111,
             "#46039f"
            ],
            [
             0.2222222222222222,
             "#7201a8"
            ],
            [
             0.3333333333333333,
             "#9c179e"
            ],
            [
             0.4444444444444444,
             "#bd3786"
            ],
            [
             0.5555555555555556,
             "#d8576b"
            ],
            [
             0.6666666666666666,
             "#ed7953"
            ],
            [
             0.7777777777777778,
             "#fb9f3a"
            ],
            [
             0.8888888888888888,
             "#fdca26"
            ],
            [
             1,
             "#f0f921"
            ]
           ],
           "sequentialminus": [
            [
             0,
             "#0d0887"
            ],
            [
             0.1111111111111111,
             "#46039f"
            ],
            [
             0.2222222222222222,
             "#7201a8"
            ],
            [
             0.3333333333333333,
             "#9c179e"
            ],
            [
             0.4444444444444444,
             "#bd3786"
            ],
            [
             0.5555555555555556,
             "#d8576b"
            ],
            [
             0.6666666666666666,
             "#ed7953"
            ],
            [
             0.7777777777777778,
             "#fb9f3a"
            ],
            [
             0.8888888888888888,
             "#fdca26"
            ],
            [
             1,
             "#f0f921"
            ]
           ]
          },
          "colorway": [
           "#636efa",
           "#EF553B",
           "#00cc96",
           "#ab63fa",
           "#FFA15A",
           "#19d3f3",
           "#FF6692",
           "#B6E880",
           "#FF97FF",
           "#FECB52"
          ],
          "font": {
           "color": "#2a3f5f"
          },
          "geo": {
           "bgcolor": "white",
           "lakecolor": "white",
           "landcolor": "#E5ECF6",
           "showlakes": true,
           "showland": true,
           "subunitcolor": "white"
          },
          "hoverlabel": {
           "align": "left"
          },
          "hovermode": "closest",
          "mapbox": {
           "style": "light"
          },
          "paper_bgcolor": "white",
          "plot_bgcolor": "#E5ECF6",
          "polar": {
           "angularaxis": {
            "gridcolor": "white",
            "linecolor": "white",
            "ticks": ""
           },
           "bgcolor": "#E5ECF6",
           "radialaxis": {
            "gridcolor": "white",
            "linecolor": "white",
            "ticks": ""
           }
          },
          "scene": {
           "xaxis": {
            "backgroundcolor": "#E5ECF6",
            "gridcolor": "white",
            "gridwidth": 2,
            "linecolor": "white",
            "showbackground": true,
            "ticks": "",
            "zerolinecolor": "white"
           },
           "yaxis": {
            "backgroundcolor": "#E5ECF6",
            "gridcolor": "white",
            "gridwidth": 2,
            "linecolor": "white",
            "showbackground": true,
            "ticks": "",
            "zerolinecolor": "white"
           },
           "zaxis": {
            "backgroundcolor": "#E5ECF6",
            "gridcolor": "white",
            "gridwidth": 2,
            "linecolor": "white",
            "showbackground": true,
            "ticks": "",
            "zerolinecolor": "white"
           }
          },
          "shapedefaults": {
           "line": {
            "color": "#2a3f5f"
           }
          },
          "ternary": {
           "aaxis": {
            "gridcolor": "white",
            "linecolor": "white",
            "ticks": ""
           },
           "baxis": {
            "gridcolor": "white",
            "linecolor": "white",
            "ticks": ""
           },
           "bgcolor": "#E5ECF6",
           "caxis": {
            "gridcolor": "white",
            "linecolor": "white",
            "ticks": ""
           }
          },
          "title": {
           "x": 0.05
          },
          "xaxis": {
           "automargin": true,
           "gridcolor": "white",
           "linecolor": "white",
           "ticks": "",
           "title": {
            "standoff": 15
           },
           "zerolinecolor": "white",
           "zerolinewidth": 2
          },
          "yaxis": {
           "automargin": true,
           "gridcolor": "white",
           "linecolor": "white",
           "ticks": "",
           "title": {
            "standoff": 15
           },
           "zerolinecolor": "white",
           "zerolinewidth": 2
          }
         }
        },
        "title": {
         "text": "Cross-validation"
        },
        "updatemenus": [
         {
          "buttons": [
           {
            "args": [
             {
              "visible": [
               true,
               true
              ]
             },
             {
              "xaxis.range": [
               -3.952154604781554,
               10.903313786058435
              ],
              "yaxis.range": [
               -3.952154604781554,
               10.903313786058435
              ]
             }
            ],
            "label": "corrosion_score",
            "method": "update"
           }
          ],
          "x": 0,
          "xanchor": "left",
          "y": 1.125,
          "yanchor": "top"
         },
         {
          "buttons": [
           {
            "args": [
             {
              "error_x.thickness": 2,
              "error_x.width": 4,
              "error_y.thickness": 2,
              "error_y.width": 4
             }
            ],
            "label": "Yes",
            "method": "restyle"
           },
           {
            "args": [
             {
              "error_x.thickness": 0,
              "error_x.width": 0,
              "error_y.thickness": 0,
              "error_y.width": 0
             }
            ],
            "label": "No",
            "method": "restyle"
           }
          ],
          "x": 1.125,
          "xanchor": "left",
          "y": 0.8,
          "yanchor": "middle"
         }
        ],
        "width": 530,
        "xaxis": {
         "linecolor": "black",
         "linewidth": 0.5,
         "mirror": true,
         "range": [
          -3.952154604781554,
          10.903313786058435
         ],
         "title": {
          "text": "Actual Outcome"
         },
         "zeroline": false
        },
        "yaxis": {
         "linecolor": "black",
         "linewidth": 0.5,
         "mirror": true,
         "range": [
          -3.952154604781554,
          10.903313786058435
         ],
         "title": {
          "text": "Predicted Outcome"
         },
         "zeroline": false
        }
       }
      }
     },
     "metadata": {},
     "output_type": "display_data"
    }
   ],
   "source": [
    "from ax.modelbridge.cross_validation import cross_validate\n",
    "from ax.plot.diagnostic import interact_cross_validation\n",
    "\n",
    "model = ax_client.generation_strategy.model\n",
    "cv_results = cross_validate(model)\n",
    "render(interact_cross_validation(cv_results))"
   ]
  },
  {
   "cell_type": "code",
   "execution_count": 325,
   "metadata": {},
   "outputs": [
    {
     "data": {
      "text/plain": [
       "[CVResult(observed=<ax.core.observation.Observation object at 0x2a5c793d0>, predicted=ObservationData(metric_names=['corrosion_score'], means=[3.33038581], covariance=[[0.0086991]])),\n",
       " CVResult(observed=<ax.core.observation.Observation object at 0x2a5c79df0>, predicted=ObservationData(metric_names=['corrosion_score'], means=[3.38045204], covariance=[[1.14749778]])),\n",
       " CVResult(observed=<ax.core.observation.Observation object at 0x2a9d89430>, predicted=ObservationData(metric_names=['corrosion_score'], means=[1.57425067], covariance=[[0.00012101]])),\n",
       " CVResult(observed=<ax.core.observation.Observation object at 0x2a5c79cd0>, predicted=ObservationData(metric_names=['corrosion_score'], means=[3.74291177], covariance=[[0.00775312]])),\n",
       " CVResult(observed=<ax.core.observation.Observation object at 0x2a5c797f0>, predicted=ObservationData(metric_names=['corrosion_score'], means=[3.35092202], covariance=[[0.00104975]])),\n",
       " CVResult(observed=<ax.core.observation.Observation object at 0x2a2ab1a90>, predicted=ObservationData(metric_names=['corrosion_score'], means=[0.75377368], covariance=[[0.35887005]])),\n",
       " CVResult(observed=<ax.core.observation.Observation object at 0x2a7a8c8b0>, predicted=ObservationData(metric_names=['corrosion_score'], means=[0.03287673], covariance=[[0.01573419]])),\n",
       " CVResult(observed=<ax.core.observation.Observation object at 0x2a2e09e20>, predicted=ObservationData(metric_names=['corrosion_score'], means=[0.28427335], covariance=[[0.02445275]])),\n",
       " CVResult(observed=<ax.core.observation.Observation object at 0x2a7a8c730>, predicted=ObservationData(metric_names=['corrosion_score'], means=[5.1717073], covariance=[[3.27016158]])),\n",
       " CVResult(observed=<ax.core.observation.Observation object at 0x2a4643a00>, predicted=ObservationData(metric_names=['corrosion_score'], means=[0.23590281], covariance=[[0.05287956]])),\n",
       " CVResult(observed=<ax.core.observation.Observation object at 0x2a5b707f0>, predicted=ObservationData(metric_names=['corrosion_score'], means=[3.954885], covariance=[[4.13191409]])),\n",
       " CVResult(observed=<ax.core.observation.Observation object at 0x2a5c79fd0>, predicted=ObservationData(metric_names=['corrosion_score'], means=[3.79301819], covariance=[[1.57803025]])),\n",
       " CVResult(observed=<ax.core.observation.Observation object at 0x2a9d89550>, predicted=ObservationData(metric_names=['corrosion_score'], means=[1.57698842], covariance=[[0.00856682]])),\n",
       " CVResult(observed=<ax.core.observation.Observation object at 0x2a5b32460>, predicted=ObservationData(metric_names=['corrosion_score'], means=[4.39157658], covariance=[[4.529502]])),\n",
       " CVResult(observed=<ax.core.observation.Observation object at 0x2a5c79970>, predicted=ObservationData(metric_names=['corrosion_score'], means=[5.52922756], covariance=[[0.00146855]])),\n",
       " CVResult(observed=<ax.core.observation.Observation object at 0x2a5b70460>, predicted=ObservationData(metric_names=['corrosion_score'], means=[0.97394723], covariance=[[0.36594216]])),\n",
       " CVResult(observed=<ax.core.observation.Observation object at 0x2a5c79ac0>, predicted=ObservationData(metric_names=['corrosion_score'], means=[0.54739115], covariance=[[0.2633537]])),\n",
       " CVResult(observed=<ax.core.observation.Observation object at 0x2a5b70280>, predicted=ObservationData(metric_names=['corrosion_score'], means=[1.38298294], covariance=[[0.0981112]])),\n",
       " CVResult(observed=<ax.core.observation.Observation object at 0x2ab3ab3d0>, predicted=ObservationData(metric_names=['corrosion_score'], means=[5.12117681], covariance=[[5.41822595]])),\n",
       " CVResult(observed=<ax.core.observation.Observation object at 0x2a48c7820>, predicted=ObservationData(metric_names=['corrosion_score'], means=[4.41398979], covariance=[[2.74877288]])),\n",
       " CVResult(observed=<ax.core.observation.Observation object at 0x2a5b62730>, predicted=ObservationData(metric_names=['corrosion_score'], means=[0.0970607], covariance=[[0.00400847]])),\n",
       " CVResult(observed=<ax.core.observation.Observation object at 0x2a5c79f40>, predicted=ObservationData(metric_names=['corrosion_score'], means=[3.74686509], covariance=[[0.00016273]])),\n",
       " CVResult(observed=<ax.core.observation.Observation object at 0x2a9d85d60>, predicted=ObservationData(metric_names=['corrosion_score'], means=[0.12282408], covariance=[[0.01368547]])),\n",
       " CVResult(observed=<ax.core.observation.Observation object at 0x2a5b62580>, predicted=ObservationData(metric_names=['corrosion_score'], means=[0.01725345], covariance=[[0.00132096]])),\n",
       " CVResult(observed=<ax.core.observation.Observation object at 0x2a5c79e20>, predicted=ObservationData(metric_names=['corrosion_score'], means=[0.64291407], covariance=[[0.42318268]])),\n",
       " CVResult(observed=<ax.core.observation.Observation object at 0x2a7a76e50>, predicted=ObservationData(metric_names=['corrosion_score'], means=[3.75959764], covariance=[[4.92338383]])),\n",
       " CVResult(observed=<ax.core.observation.Observation object at 0x2a5c79bb0>, predicted=ObservationData(metric_names=['corrosion_score'], means=[5.90193752], covariance=[[14.30188832]])),\n",
       " CVResult(observed=<ax.core.observation.Observation object at 0x2a9d89ca0>, predicted=ObservationData(metric_names=['corrosion_score'], means=[1.25197049], covariance=[[0.43754259]])),\n",
       " CVResult(observed=<ax.core.observation.Observation object at 0x2a5b62880>, predicted=ObservationData(metric_names=['corrosion_score'], means=[2.22755944], covariance=[[1.44631305]])),\n",
       " CVResult(observed=<ax.core.observation.Observation object at 0x2a5b32280>, predicted=ObservationData(metric_names=['corrosion_score'], means=[1.10185481], covariance=[[0.3645476]])),\n",
       " CVResult(observed=<ax.core.observation.Observation object at 0x2a5b32a60>, predicted=ObservationData(metric_names=['corrosion_score'], means=[0.52667369], covariance=[[0.06076658]])),\n",
       " CVResult(observed=<ax.core.observation.Observation object at 0x2a5c79160>, predicted=ObservationData(metric_names=['corrosion_score'], means=[0.81682378], covariance=[[0.00202599]])),\n",
       " CVResult(observed=<ax.core.observation.Observation object at 0x2a06d0ac0>, predicted=ObservationData(metric_names=['corrosion_score'], means=[0.30203122], covariance=[[0.06494224]])),\n",
       " CVResult(observed=<ax.core.observation.Observation object at 0x2a48c7490>, predicted=ObservationData(metric_names=['corrosion_score'], means=[2.92546491], covariance=[[2.91704295]])),\n",
       " CVResult(observed=<ax.core.observation.Observation object at 0x2a5c790a0>, predicted=ObservationData(metric_names=['corrosion_score'], means=[5.5097873], covariance=[[7.68646695]])),\n",
       " CVResult(observed=<ax.core.observation.Observation object at 0x2a5c79c10>, predicted=ObservationData(metric_names=['corrosion_score'], means=[0.81779914], covariance=[[0.00204636]])),\n",
       " CVResult(observed=<ax.core.observation.Observation object at 0x2a5c79be0>, predicted=ObservationData(metric_names=['corrosion_score'], means=[5.52898111], covariance=[[0.00526972]])),\n",
       " CVResult(observed=<ax.core.observation.Observation object at 0x28ecdf670>, predicted=ObservationData(metric_names=['corrosion_score'], means=[1.73056953], covariance=[[0.32395525]]))]"
      ]
     },
     "execution_count": 325,
     "metadata": {},
     "output_type": "execute_result"
    }
   ],
   "source": [
    "cv_results"
   ]
  }
 ],
 "metadata": {
  "kernelspec": {
   "display_name": "ax_env",
   "language": "python",
   "name": "python3"
  },
  "language_info": {
   "codemirror_mode": {
    "name": "ipython",
    "version": 3
   },
   "file_extension": ".py",
   "mimetype": "text/x-python",
   "name": "python",
   "nbconvert_exporter": "python",
   "pygments_lexer": "ipython3",
   "version": "3.9.19"
  }
 },
 "nbformat": 4,
 "nbformat_minor": 2
}
