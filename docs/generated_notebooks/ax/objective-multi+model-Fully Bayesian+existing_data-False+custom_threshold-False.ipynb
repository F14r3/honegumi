{
 "cells": [
  {
   "cell_type": "markdown",
   "id": "a1fb6b12",
   "metadata": {},
   "source": [
    "<a href=\"https://colab.research.google.com/github/sgbaird/honegumi/blob/main/docs/generated_notebooks/ax/objective-multi%2Bmodel-Fully%20Bayesian%2Bexisting_data-False%2Bcustom_threshold-False.ipynb\"><img alt=\"Open In Colab\" src=\"https://colab.research.google.com/assets/colab-badge.svg\"></a>"
   ]
  },
  {
   "cell_type": "code",
   "execution_count": null,
   "id": "afea23cc",
   "metadata": {},
   "outputs": [],
   "source": [
    "%pip install ax-platform"
   ]
  },
  {
   "cell_type": "code",
   "execution_count": null,
   "id": "afd65236",
   "metadata": {},
   "outputs": [],
   "source": [
    "INVALID: The parameters you have selected are incompatible, either from not being implemented or being logically inconsistent."
   ]
  }
 ],
 "metadata": {
  "jupytext": {
   "cell_metadata_filter": "-all",
   "main_language": "python",
   "notebook_metadata_filter": "-all"
  }
 },
 "nbformat": 4,
 "nbformat_minor": 5
}
