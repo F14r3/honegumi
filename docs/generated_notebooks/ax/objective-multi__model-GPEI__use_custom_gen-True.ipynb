{
 "cells": [
  {
   "cell_type": "markdown",
   "id": "d673fba9",
   "metadata": {},
   "source": [
    "<a href=\"https://colab.research.google.com/github/sgbaird/honegumi/blob/main/docs\\generated_notebooks\\ax\\objective-multi__model-GPEI__use_custom_gen-True.ipynb\"><img alt=\"Open In Colab\" src=\"https://colab.research.google.com/assets/colab-badge.svg\"></a>"
   ]
  },
  {
   "cell_type": "code",
   "execution_count": null,
   "id": "015a63d2",
   "metadata": {},
   "outputs": [],
   "source": [
    "%pip install ax-platform"
   ]
  },
  {
   "cell_type": "code",
   "execution_count": null,
   "id": "498393cb",
   "metadata": {},
   "outputs": [],
   "source": [
    "from ax.service.ax_client import AxClient\n",
    "from ax.utils.measurement.synthetic_functions import branin\n",
    "from ax.service.utils.instantiation import ObjectiveProperties\n",
    "\n",
    "from ax.modelbridge.factory import Models\n",
    "from ax.modelbridge.generation_strategy import GenerationStep, GenerationStrategy\n",
    "\n",
    "obj1_name = \"branin\"\n",
    "obj2_name = \"neg_branin\"\n",
    "\n",
    "\n",
    "def branin_moo(x1, x2):\n",
    "    \"\"\"Multi-objective branin function\n",
    "\n",
    "    The first objective is the normal branin value and the second\n",
    "    objective is the negative branin value.\n",
    "    \"\"\"\n",
    "    return {obj1_name: branin(x1, x2), obj2_name: -branin(x1, x2)}\n",
    "\n",
    "\n",
    "gs = GenerationStrategy(\n",
    "    steps=[\n",
    "        # 1. Initialization step (does not require pre-existing data and is well-suited\n",
    "        # for initial sampling of the search space)\n",
    "        GenerationStep(\n",
    "            model=Models.SOBOL,\n",
    "            num_trials=5,  # How many trials to produce during generation step\n",
    "            min_trials_observed=3,  # How many trials to be completed before next model\n",
    "            max_parallelism=5,  # Max parallelism for this step\n",
    "            model_kwargs={\"seed\": 999},  # Any kwargs you want passed into the model\n",
    "            model_gen_kwargs={},  # Any kwargs you want passed to `modelbridge.gen`\n",
    "        ),\n",
    "        # 2. Bayesian optimization step (requires data obtained from previous phase and\n",
    "        # learns from all data available at the time of each new candidate generation)\n",
    "        GenerationStep(\n",
    "            model=Models.GPEI,\n",
    "            num_trials=-1,  # No limitation on how many trials from this step\n",
    "            max_parallelism=3,  # Parallelism limit for this step\n",
    "            # More on parallelism vs. required samples in BayesOpt:\n",
    "            # https://ax.dev/docs/bayesopt.html#tradeoff-between-parallelism-and-total-number-of-trials # noqa:E501\n",
    "        ),\n",
    "    ]\n",
    ")\n",
    "\n",
    "ax_client = AxClient()\n",
    "ax_client.create_experiment(\n",
    "    parameters=[\n",
    "        {\"name\": \"x1\", \"type\": \"range\", \"bounds\": [-5.0, 10.0]},\n",
    "        {\"name\": \"x2\", \"type\": \"range\", \"bounds\": [0.0, 10.0]},\n",
    "    ],\n",
    "    objectives={\n",
    "        obj1_name: ObjectiveProperties(minimize=True, threshold=None),\n",
    "        obj2_name: ObjectiveProperties(minimize=True, threshold=None),\n",
    "    },\n",
    ")\n",
    "\n",
    "for _ in range(15):\n",
    "    parameters, trial_index = ax_client.get_next_trial()\n",
    "    results = branin_moo(parameters[\"x1\"], parameters[\"x2\"])\n",
    "    ax_client.complete_trial(trial_index=trial_index, raw_data=results)\n",
    "\n",
    "pareto_results = ax_client.get_pareto_optimal_parameters()"
   ]
  }
 ],
 "metadata": {
  "jupytext": {
   "cell_metadata_filter": "-all",
   "main_language": "python",
   "notebook_metadata_filter": "-all"
  }
 },
 "nbformat": 4,
 "nbformat_minor": 5
}
