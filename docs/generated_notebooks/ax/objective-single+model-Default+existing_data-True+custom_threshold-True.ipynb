{
 "cells": [
  {
   "cell_type": "markdown",
   "id": "68921b37",
   "metadata": {},
   "source": [
    "<a href=\"https://colab.research.google.com/github/sgbaird/honegumi/blob/main/docs/generated_notebooks/ax/objective-single%2Bmodel-Default%2Bexisting_data-True%2Bcustom_threshold-True.ipynb\"><img alt=\"Open In Colab\" src=\"https://colab.research.google.com/assets/colab-badge.svg\"></a>"
   ]
  },
  {
   "cell_type": "code",
   "execution_count": null,
   "id": "ee908422",
   "metadata": {},
   "outputs": [],
   "source": [
    "%pip install ax-platform"
   ]
  },
  {
   "cell_type": "code",
   "execution_count": null,
   "id": "5d86ce54",
   "metadata": {},
   "outputs": [],
   "source": [
    "INVALID: The parameters you have selected are incompatible, either from not being implemented or being logically inconsistent."
   ]
  }
 ],
 "metadata": {
  "jupytext": {
   "cell_metadata_filter": "-all",
   "main_language": "python",
   "notebook_metadata_filter": "-all"
  }
 },
 "nbformat": 4,
 "nbformat_minor": 5
}
