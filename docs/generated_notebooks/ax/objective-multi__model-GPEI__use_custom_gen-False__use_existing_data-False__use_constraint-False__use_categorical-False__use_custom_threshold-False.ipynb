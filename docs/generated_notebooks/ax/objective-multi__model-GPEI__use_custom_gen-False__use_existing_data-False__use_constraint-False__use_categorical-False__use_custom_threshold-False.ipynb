{
 "cells": [
  {
   "cell_type": "markdown",
   "id": "a94f8a7b",
   "metadata": {},
   "source": [
    "<a href=\"https://colab.research.google.com/github/sgbaird/honegumi/blob/main/docs\\generated_notebooks\\ax\\objective-multi__model-GPEI__use_custom_gen-False__use_existing_data-False__use_constraint-False__use_categorical-False__use_custom_threshold-False.ipynb\"><img alt=\"Open In Colab\" src=\"https://colab.research.google.com/assets/colab-badge.svg\"></a>"
   ]
  },
  {
   "cell_type": "code",
   "execution_count": null,
   "id": "1df53388",
   "metadata": {},
   "outputs": [],
   "source": [
    "%pip install ax-platform"
   ]
  },
  {
   "cell_type": "code",
   "execution_count": null,
   "id": "82578185",
   "metadata": {},
   "outputs": [],
   "source": [
    "import numpy as np\n",
    "from ax.service.ax_client import AxClient, ObjectiveProperties\n",
    "\n",
    "\n",
    "obj1_name = \"branin\"\n",
    "obj2_name = \"branin_swapped\"\n",
    "\n",
    "\n",
    "def branin_moo(x1, x2):\n",
    "    y = float(\n",
    "        (x2 - 5.1 / (4 * np.pi**2) * x1**2 + 5.0 / np.pi * x1 - 6.0) ** 2\n",
    "        + 10 * (1 - 1.0 / (8 * np.pi)) * np.cos(x1)\n",
    "        + 10\n",
    "    )\n",
    "\n",
    "    # second objective has x1 and x2 swapped\n",
    "    y2 = float(\n",
    "        (x1 - 5.1 / (4 * np.pi**2) * x2**2 + 5.0 / np.pi * x2 - 6.0) ** 2\n",
    "        + 10 * (1 - 1.0 / (8 * np.pi)) * np.cos(x2)\n",
    "        + 10\n",
    "    )\n",
    "\n",
    "    return {obj1_name: y, obj2_name: y2}\n",
    "\n",
    "\n",
    "ax_client = AxClient()\n",
    "ax_client.create_experiment(\n",
    "    parameters=[\n",
    "        {\"name\": \"x1\", \"type\": \"range\", \"bounds\": [-5.0, 10.0]},\n",
    "        {\"name\": \"x2\", \"type\": \"range\", \"bounds\": [0.0, 10.0]},\n",
    "    ],\n",
    "    objectives={\n",
    "        obj1_name: ObjectiveProperties(minimize=True),\n",
    "        obj2_name: ObjectiveProperties(minimize=True),\n",
    "    },\n",
    ")\n",
    "\n",
    "\n",
    "for _ in range(10):\n",
    "    parameters, trial_index = ax_client.get_next_trial()\n",
    "    results = branin_moo(\n",
    "        parameters[\"x1\"],\n",
    "        parameters[\"x2\"],\n",
    "    )\n",
    "    ax_client.complete_trial(trial_index=trial_index, raw_data=results)\n",
    "\n",
    "pareto_results = ax_client.get_pareto_optimal_parameters()"
   ]
  }
 ],
 "metadata": {
  "jupytext": {
   "cell_metadata_filter": "-all",
   "main_language": "python",
   "notebook_metadata_filter": "-all"
  }
 },
 "nbformat": 4,
 "nbformat_minor": 5
}
