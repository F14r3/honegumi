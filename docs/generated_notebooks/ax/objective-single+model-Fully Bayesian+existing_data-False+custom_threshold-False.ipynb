{
 "cells": [
  {
   "cell_type": "markdown",
   "id": "776b0ef8",
   "metadata": {},
   "source": [
    "<a href=\"https://colab.research.google.com/github/sgbaird/honegumi/blob/main/docs/generated_notebooks/ax/objective-single%2Bmodel-Fully%20Bayesian%2Bexisting_data-False%2Bcustom_threshold-False.ipynb\"><img alt=\"Open In Colab\" src=\"https://colab.research.google.com/assets/colab-badge.svg\"></a>"
   ]
  },
  {
   "cell_type": "code",
   "execution_count": null,
   "id": "6a9ebe3f",
   "metadata": {},
   "outputs": [],
   "source": [
    "%pip install ax-platform"
   ]
  },
  {
   "cell_type": "code",
   "execution_count": null,
   "id": "8f57a3f6",
   "metadata": {},
   "outputs": [],
   "source": [
    "INVALID: The parameters you have selected are incompatible, either from not being implemented or being logically inconsistent."
   ]
  }
 ],
 "metadata": {
  "jupytext": {
   "cell_metadata_filter": "-all",
   "main_language": "python",
   "notebook_metadata_filter": "-all"
  }
 },
 "nbformat": 4,
 "nbformat_minor": 5
}
