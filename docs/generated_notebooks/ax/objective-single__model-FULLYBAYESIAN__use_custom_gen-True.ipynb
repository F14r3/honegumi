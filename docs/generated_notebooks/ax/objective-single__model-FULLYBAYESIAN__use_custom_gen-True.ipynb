{
 "cells": [
  {
   "cell_type": "markdown",
   "id": "cb97e791",
   "metadata": {},
   "source": [
    "<a href=\"https://colab.research.google.com/github/sgbaird/honegumi/blob/main/docs\\generated_notebooks\\ax\\objective-single__model-FULLYBAYESIAN__use_custom_gen-True.ipynb\"><img alt=\"Open In Colab\" src=\"https://colab.research.google.com/assets/colab-badge.svg\"></a>"
   ]
  },
  {
   "cell_type": "code",
   "execution_count": null,
   "id": "93fde0c8",
   "metadata": {},
   "outputs": [],
   "source": [
    "%pip install ax-platform"
   ]
  },
  {
   "cell_type": "code",
   "execution_count": null,
   "id": "78557657",
   "metadata": {},
   "outputs": [],
   "source": [
    "from ax.service.ax_client import AxClient\n",
    "from ax.utils.measurement.synthetic_functions import branin\n",
    "\n",
    "\n",
    "from ax.modelbridge.factory import Models\n",
    "from ax.modelbridge.generation_strategy import GenerationStep, GenerationStrategy\n",
    "\n",
    "\n",
    "gs = GenerationStrategy(\n",
    "    steps=[\n",
    "        GenerationStep(\n",
    "            model=Models.SOBOL,\n",
    "            num_trials=5,\n",
    "            min_trials_observed=3,\n",
    "            max_parallelism=5,\n",
    "            model_kwargs={\"seed\": 999},\n",
    "            model_gen_kwargs={},\n",
    "        ),\n",
    "        GenerationStep(\n",
    "            model=Models.FULLYBAYESIAN,\n",
    "            num_trials=-1,\n",
    "            max_parallelism=3,\n",
    "        ),\n",
    "    ]\n",
    ")\n",
    "\n",
    "ax_client = AxClient(generation_strategy=gs)\n",
    "ax_client.create_experiment(\n",
    "    parameters=[\n",
    "        {\"name\": \"x1\", \"type\": \"range\", \"bounds\": [-5.0, 10.0]},\n",
    "        {\"name\": \"x2\", \"type\": \"range\", \"bounds\": [0.0, 10.0]},\n",
    "    ],\n",
    "    objective_name=\"branin\",\n",
    "    minimize=True,\n",
    ")\n",
    "\n",
    "\n",
    "for _ in range(15):\n",
    "    parameters, trial_index = ax_client.get_next_trial()\n",
    "    results = branin(parameters[\"x1\"], parameters[\"x2\"])\n",
    "    ax_client.complete_trial(trial_index=trial_index, raw_data=results)\n",
    "\n",
    "\n",
    "best_parameters, metrics = ax_client.get_best_parameters()"
   ]
  }
 ],
 "metadata": {
  "jupytext": {
   "cell_metadata_filter": "-all",
   "main_language": "python",
   "notebook_metadata_filter": "-all"
  }
 },
 "nbformat": 4,
 "nbformat_minor": 5
}
