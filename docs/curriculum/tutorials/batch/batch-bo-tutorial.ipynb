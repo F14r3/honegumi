{
 "cells": [
  {
   "cell_type": "markdown",
   "metadata": {},
   "source": [
    "# Noisy Batch Optimization\n",
    "\n",
    "[![Open In Colab](https://colab.research.google.com/assets/colab-badge.svg)](https://colab.research.google.com/github/sgbaird/honegumi/blob/main/docs/curriculum/tutorials/batch/batch-bo-tutorial.ipynb)"
   ]
  },
  {
   "cell_type": "code",
   "execution_count": null,
   "metadata": {},
   "outputs": [],
   "source": [
    "try:\n",
    "    import google.colab\n",
    "    %pip install ax-platform matplotlib\n",
    "except:\n",
    "    print(\"Not running in Google Colab\")"
   ]
  },
  {
   "cell_type": "markdown",
   "metadata": {},
   "source": [
    "\n",
    "Many high performing materials suffer from poor corrosion resistance, which limits their use in real world applications. Anti-corrosion coatings are a common solution that can be adapted to protect a given material in a number of harsh environments. You have the task of designing an anti-corrosion coating for a new material that needs to withstand a relatively high temperature corrosive environment. You decided to simulate the corrosive environment in the lab and test a number of different coatings to see which one performs the best. Based on the lab space, you find that you can test up to six coatings in a single test, allowing three replicates of two coating compositions to be tested simultaneously.\n",
    "\n",
    "You believe Bayesian optimization can help you in this task and decide to put together an optimization script using Honegumi to help solve this problem.\n",
    "\n",
    "You identify the following tunable parameters for this problem:\n",
    "\n",
    "| | **Parameter Name** | **Bounds**  |\n",
    "|------|--------------------|-------------|\n",
    "| x1   | Resin Fraction              | [0, 1]          |\n",
    "| x2   | Inhibitor Fraction          | [0, 1]          |\n",
    "| x3   | Insulator Fraction          | [0, 1]          |\n",
    "| x4   | Stabilizer Fraction         | [0, 0.1]        |\n",
    "| x5   | Coating Thickness           | [0.1, 10]       |\n",
    "\n",
    "Looking through the literature, you identify constraints on the relative fractions of each component that should reduce the size of the search space and make the optimization task easier. Notably, you find that the best materials keep the `Resin Fraction` greater than the `Inhibitor Fraction` and the `Insulator Fraction` and decide to incorporate this as a constraint.\n",
    "\n",
    "A dummy objective function that emulates the results of the corrosion experiment has been constructed in the code cell below. To simulate sample variability, random noise is added to the output of the function on call. Although we can easily find optimal values using the equations, we will pretend that the objective function is unknown and use a Bayesian optimization approach to find the optimal set of input parameters instead."
   ]
  },
  {
   "cell_type": "code",
   "execution_count": 4,
   "metadata": {},
   "outputs": [],
   "source": [
    "import numpy as np\n",
    "\n",
    "def simulate_corrosion(x1, x2, x3, x4, x5):\n",
    "    \"\"\"\n",
    "    Calculate the corrosion damage based on the input parameters.\n",
    "\n",
    "    Args:\n",
    "        x1 (float): the fraction of resin used in the coating formulation\n",
    "        x2 (float): the fraction of inhibitor used in the coating formulation\n",
    "        x3 (float): the fraction of insulator used in the coating formulation\n",
    "        x4 (float): the fraction of stabilizer used in the coating formulation\n",
    "        x5 (float): the coating thickness\n",
    "\n",
    "    Returns:\n",
    "        dict: the measured corrosion damage and  uncertainty\n",
    "    \"\"\"\n",
    "    score = float(\n",
    "        1/(np.exp(-40*(x1-0.42)**2) + np.exp(-24*(x1-0.75)**2) + 0.1) +\n",
    "        1/(np.exp(-30*(x2-0.22)**2) + np.exp(-1000*(x2-0.22)**2) + np.exp(-800*(x2-0.42)**2) + 0.15) +\n",
    "        1/(np.exp(-25*(x3-0.27)**2) + np.exp(-1000*(x3-0.27)**2) + np.exp(-150*(x3-0.37)**2) +1) +\n",
    "        1/(np.exp(-400*(x4-0.08)**2) +1) + 0.5*x4 +\n",
    "        1/(np.exp(-(x5-8)**2) + 0.05*x5 + 0.3)\n",
    "    ) - 3.18\n",
    "    \n",
    "    return (score, abs(np.random.normal(0.0, 0.1)))"
   ]
  },
  {
   "cell_type": "markdown",
   "metadata": {},
   "source": [
    "## Applying Honegumi\n",
    "\n",
    "We will now use the [Honegumi website](https://honegumi.readthedocs.io/en/latest/) to generate a script that will help us optimize the coating parameters. From the description, we observe that our problem is a **single objective** optimization problem with a **constraint on the fractional sum of coating components** and an **ordering constraint** on the relative fractions of each component. As there is room for several samples to be tested in parallel, **batch optimization** could make the approach more efficient. Lastly, it is expected that the reults will be noisy, so you decide to use a **Fully Bayesian** model to make the optimization process more robust.\n",
    "\n",
    "![Honegumi Selections for The Problem Statement](batch-honegumi-selection.jpg)\n",
    "\n",
    "The Honegumi generated optimization script will provide a framework for our optimization campaign that we can modify to suit our specific problem needs. In the code sections below, we will make several modifications to this generated script to make it compatible with our problem."
   ]
  },
  {
   "cell_type": "markdown",
   "metadata": {},
   "source": [
    "## Modifying the Code for Our Problem\n",
    "\n",
    "We can modify this code to suit our problem with a few simple modifications. Wherever a modification has been made to the code, a comment starting with `# CHANGE:` has been added along with a brief description of the change.\n",
    "\n",
    "NOTE: This problem uses a fully Bayesian GP model, which is more computationally demanding than the standard GP model. As such, the number of trials has been limited for demonstration purposes."
   ]
  },
  {
   "cell_type": "code",
   "execution_count": null,
   "metadata": {},
   "outputs": [],
   "source": [
    "import numpy as np\n",
    "from ax.service.ax_client import AxClient, ObjectiveProperties\n",
    "\n",
    "from ax.modelbridge.factory import Models\n",
    "from ax.modelbridge.generation_strategy import GenerationStep, GenerationStrategy\n",
    "\n",
    "\n",
    "obj1_name = \"corrosion_score\" # CHANGE: update objective name\n",
    "\n",
    "# CHANGE: remove the branin dummy objective function, we will use the above function\n",
    "\n",
    "total = 1.0 # CHANGE: update total component fraction\n",
    "\n",
    "gs = GenerationStrategy(\n",
    "    steps=[\n",
    "        GenerationStep(\n",
    "            model=Models.SOBOL,\n",
    "            num_trials=6,\n",
    "            min_trials_observed=3,\n",
    "            max_parallelism=5,\n",
    "            model_kwargs={\"seed\": 999},\n",
    "            model_gen_kwargs={},\n",
    "        ),\n",
    "        GenerationStep(\n",
    "            model=Models.FULLYBAYESIAN,\n",
    "            num_trials=-1,\n",
    "            max_parallelism=3,\n",
    "            should_deduplicate=True, # CHANGE: reduce duplicate suggestions\n",
    "            model_kwargs={\"num_samples\": 1024, \"warmup_steps\": 1024},\n",
    "        ),\n",
    "    ]\n",
    ")\n",
    "\n",
    "ax_client = AxClient(generation_strategy=gs, random_seed=42) # CHANGE: add random seed for reproducibility\n",
    "\n",
    "ax_client.create_experiment(\n",
    "    parameters=[\n",
    "        {\"name\": \"x1\", \"type\": \"range\", \"bounds\": [0.0, total]}, # CHANGE: update parameter\n",
    "        {\"name\": \"x2\", \"type\": \"range\", \"bounds\": [0.0, total]}, # CHANGE: update parameter\n",
    "        {\"name\": \"x3\", \"type\": \"range\", \"bounds\": [0.0, total]}, # CHANGE: add new parameter\n",
    "        {\"name\": \"x5\", \"type\": \"range\", \"bounds\": [0.1, 10.0]}, # CHANGE: add new parameter\n",
    "    ],\n",
    "    objectives={\n",
    "        obj1_name: ObjectiveProperties(minimize=True),\n",
    "    },\n",
    "    parameter_constraints=[\n",
    "        f\"x1 + x2 + x3 <= {total}\", # CHANGE: update composition constraint\n",
    "        \"x1 >= x2\", # CHANGE: update order constraint\n",
    "        \"x1 >= x3\", # CHANGE: add order constraint\n",
    "    ],\n",
    ")\n",
    "\n",
    "batch_size = 2\n",
    "\n",
    "for _ in range(10): # CHANGE: decrease number of iterations\n",
    "\n",
    "    parameterizations, optimization_complete = ax_client.get_next_trials(batch_size)\n",
    "    for trial_index, parameterization in list(parameterizations.items()):\n",
    "        \n",
    "        # CHANGE: pull all added parameters from the parameterization\n",
    "        x1 = parameterization[\"x1\"]\n",
    "        x2 = parameterization[\"x2\"]\n",
    "        x3 = parameterization[\"x3\"]\n",
    "        x4 = total - (x1 + x2 + x3) # CHANGE: update composition constraint\n",
    "        x5 = parameterization[\"x5\"]\n",
    "\n",
    "        results = simulate_corrosion(x1, x2, x3, x4, x5)\n",
    "        ax_client.complete_trial(trial_index=trial_index, raw_data=results)\n",
    "\n",
    "best_parameters, metrics = ax_client.get_best_parameters()"
   ]
  },
  {
   "cell_type": "markdown",
   "metadata": {},
   "source": [
    "### Show the Best Parameters\n",
    "\n",
    "After our optimization loop has completed, we can use the model to find the best parameters and their corresponding strength value. These will be our optimial set of parameters that we use in the 3D printer going forward."
   ]
  },
  {
   "cell_type": "code",
   "execution_count": 9,
   "metadata": {},
   "outputs": [
    {
     "name": "stderr",
     "output_type": "stream",
     "text": [
      "[INFO 05-08 17:02:39] ax.modelbridge.base: Leaving out out-of-design observations for arms: 16_0\n",
      "Sample: 100%|██████████| 2048/2048 [00:28, 72.86it/s, step size=3.60e-01, acc. prob=0.903]\n"
     ]
    },
    {
     "data": {
      "text/plain": [
       "(19,\n",
       " {'x1': 0.444310612880253,\n",
       "  'x2': 0.23909903307319696,\n",
       "  'x3': 0.2647932814508338,\n",
       "  'x5': 10.0},\n",
       " ({'corrosion_score': 0.3585147123389083},\n",
       "  {'corrosion_score': {'corrosion_score': 0.00032350561483642887}}))"
      ]
     },
     "execution_count": 9,
     "metadata": {},
     "output_type": "execute_result"
    }
   ],
   "source": [
    "ax_client.get_best_trial()"
   ]
  },
  {
   "cell_type": "markdown",
   "metadata": {},
   "source": [
    "### Plotting Optimization Performance\n",
    "\n",
    "We can plot the performance of our optmization loop to see how the optimization task progressed as a function of iteration count."
   ]
  },
  {
   "cell_type": "code",
   "execution_count": 33,
   "metadata": {},
   "outputs": [
    {
     "name": "stderr",
     "output_type": "stream",
     "text": [
      "[WARNING 05-08 17:24:10] ax.service.utils.report_utils: Column reason missing for all trials. Not appending column.\n"
     ]
    },
    {
     "data": {
      "image/png": "[encoded data removed]",
      "text/plain": [
       "<Figure size 720x480 with 1 Axes>"
      ]
     },
     "metadata": {},
     "output_type": "display_data"
    }
   ],
   "source": [
    "import matplotlib.pyplot as plt\n",
    "\n",
    "df = ax_client.get_trials_data_frame()\n",
    "\n",
    "fig, ax = plt.subplots(figsize=(6,4), dpi=120)\n",
    "\n",
    "ax.plot(df.corrosion_score, ls='None', marker='o', mfc='None', mec='k', label='Observed')\n",
    "\n",
    "best_to_trial = np.minimum.accumulate(df.corrosion_score.values)\n",
    "ax.plot(best_to_trial, color='#0033FF', lw=2, label='Best to Trial')\n",
    "\n",
    "plt.xticks(range(len(df)))\n",
    "plt.xlabel('Trial Number')\n",
    "plt.ylabel('Corrosion Score (Lower is Better)')\n",
    "plt.ylim(0, 4)\n",
    "plt.legend()\n",
    "plt.show()"
   ]
  }
 ],
 "metadata": {
  "kernelspec": {
   "display_name": "ax_env",
   "language": "python",
   "name": "python3"
  },
  "language_info": {
   "codemirror_mode": {
    "name": "ipython",
    "version": 3
   },
   "file_extension": ".py",
   "mimetype": "text/x-python",
   "name": "python",
   "nbconvert_exporter": "python",
   "pygments_lexer": "ipython3",
   "version": "3.9.19"
  }
 },
 "nbformat": 4,
 "nbformat_minor": 2
}
