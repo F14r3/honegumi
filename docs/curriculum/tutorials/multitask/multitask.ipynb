{
 "cells": [
  {
   "cell_type": "markdown",
   "metadata": {},
   "source": [
    "# Multi-Task Optimization Across Ceramic Binder Systems\n",
    "\n",
    "Tape casting is a manufacturing technique for producing thin, uniform ceramic components that find applications in fuel cells, batteries, and capacitors. The fabrication process involves casting a thin ceramic slurry over a flat sheet using a doctor blade, a drying process, and then debinding and sintering.\n",
    "\n",
    "You are interesting in fabricating casting some thin, but robust ceramic membranes for use in a hydrogen fuel cell. Green strength appears to be an important factor so you decide to target this metric. After working through the literature you identify the following key slurry components and the likely ranges.\n",
    "\n",
    "| Component | WT% Range  |\n",
    "|-----------|------------|\n",
    "| Ceramic Powder | 50-70 |\n",
    "| Solvent        | 20-30 |\n",
    "| Binder         | 10-20 |\n",
    "| Plasticizer    | 0-1   |\n",
    "\n",
    "You identify two possible binder systems (A, B) and request samples from the manufacturers. For Binder A you recieve enough binder sample to perform 20 experimental trials. However, for Binder B you only receive enough to perform 10 experimental trials. You would like to give each binder system a fair assessment, but are worried that 10 experimental trials might not be enough to to find an optimal formulation.\n",
    "\n",
    "To compensate the small sample size, the Binder B manufacturer provided recommended formulation, which is listed below in weight percents of components:\n",
    "\n",
    "```python\n",
    "{\n",
    "    \"ceram_frac\": 0.62, \n",
    "    \"solv_frac\": 0.3,\n",
    "    \"binder_frac\": 0.1,\n",
    "    \"plast_frac\": 0.01\n",
    "}\n",
    "```\n",
    "\n",
    "You suspect that there will be a lot of commonality between the optimal formulations regardless of binder, and believe that a multi-task optimization approach the shares information between the two systems could help offset the lack of data for Binder B.\n",
    "\n",
    "A set of dummy objective functions has been constructed in the code cell below to emulate the results of experimental trials under different inputs and biner systems. Although we can easily find the optimal values using the equation, we will pretend that the objective function is unknown and use a Bayesian optimization approach to find the optimal set of input parameters instead."
   ]
  },
  {
   "cell_type": "code",
   "execution_count": 1,
   "metadata": {},
   "outputs": [],
   "source": [
    "import numpy as np\n",
    "\n",
    "def gauss(x, mean, std):\n",
    "    return np.exp(-(((x - mean) / std) ** 2))\n",
    "\n",
    "def strength_binderA(ceram_frac, solv_frac, binder_frac, plast_frac, task='A'):\n",
    "    \"\"\"Return the green strength of tape cast samples made with binder A\"\"\"\n",
    "\n",
    "    sigma = (\n",
    "        gauss(ceram_frac, 0.6, 0.1) + gauss(solv_frac, 0.23, 0.2)\n",
    "        + gauss(binder_frac, 0.15, 0.05) + gauss(plast_frac, 0.005, 0.01)\n",
    "    )\n",
    "\n",
    "    return 3.8 * sigma\n",
    "\n",
    "def strength_binderB(ceram_frac, solv_frac, binder_frac, plast_frac, task='B'):\n",
    "    \"\"\"Return the green strength of tape cast samples made with binder B\"\"\"\n",
    "\n",
    "    sigma = (\n",
    "        gauss(ceram_frac, 0.55, 0.07) + gauss(solv_frac, 0.26, 0.15)\n",
    "        + gauss(binder_frac, 0.14, 0.03) + gauss(plast_frac, 0.007, 0.01)\n",
    "    )\n",
    "\n",
    "    return 4.0 * sigma"
   ]
  },
  {
   "cell_type": "markdown",
   "metadata": {},
   "source": [
    "## Applying Honegumi\n",
    "\n",
    "We will now use the [Honegumi](https://honegumi.readthedocs.io/en/latest/index.html) website to generate a script that will help us optimze both binder systems using multi-task optimization. From the description, we observe that our problem is a **single objective** problem with **two tasks**. As the maufacturer gave us a suggested composition, we also have some **existing data** to include in the model.\n",
    "\n",
    "![Honegumi Selections for Multitask Optimization](multitask_selection.png)"
   ]
  },
  {
   "cell_type": "markdown",
   "metadata": {},
   "source": [
    "## Modifying the Code for Our Problem\n",
    "\n",
    "We can modify this code to suit our problem with a few simple modifications. Wherever a modification has been made to the code, a comment starting with `# MOD:` has been added along with a brief description of the change."
   ]
  },
  {
   "cell_type": "code",
   "execution_count": null,
   "metadata": {},
   "outputs": [],
   "source": [
    "import numpy as np\n",
    "import pandas as pd\n",
    "from ax.service.ax_client import AxClient, ObjectiveProperties\n",
    "import matplotlib.pyplot as plt\n",
    "\n",
    "\n",
    "from ax.modelbridge.factory import Models\n",
    "from ax.modelbridge.generation_strategy import GenerationStep, GenerationStrategy\n",
    "\n",
    "\n",
    "from ax.modelbridge.registry import Specified_Task_ST_MTGP_trans\n",
    "from ax.core.observation import ObservationFeatures\n",
    "\n",
    "gs = GenerationStrategy(\n",
    "    name=\"MultiTaskOp\",\n",
    "    steps=[\n",
    "        GenerationStep(\n",
    "            model=Models.SOBOL,\n",
    "            num_trials=8,\n",
    "            model_kwargs={\"deduplicate\": True, \"transforms\": Specified_Task_ST_MTGP_trans},\n",
    "        ),\n",
    "        GenerationStep(\n",
    "            model=Models.BOTORCH_MODULAR,\n",
    "            num_trials=-1,\n",
    "            model_kwargs={\"transforms\": Specified_Task_ST_MTGP_trans},\n",
    "        ),\n",
    "    ],\n",
    ")\n",
    "\n",
    "ax_client = AxClient(generation_strategy=gs, random_seed=42, verbose_logging=False)\n",
    "\n",
    "ax_client.create_experiment(\n",
    "    name=\"MultiTaskOp\",\n",
    "    parameters=[\n",
    "        {\"name\": \"ceram_frac\",  \"type\": \"range\", \"bounds\": [0.5, 0.7]},\n",
    "        {\"name\": \"solv_frac\",   \"type\": \"range\", \"bounds\": [0.2, 0.3]},\n",
    "        {\"name\": \"binder_frac\", \"type\": \"range\", \"bounds\": [0.1, 0.2]},\n",
    "        {\"name\": \"plast_frac\",  \"type\": \"range\", \"bounds\": [0.0, 0.01]},\n",
    "        {\n",
    "            \"name\": \"task\",\n",
    "            \"type\": \"choice\",\n",
    "            \"values\": [\"A\", \"B\"],\n",
    "            \"is_task\": True,\n",
    "            \"target_value\": \"B\"\n",
    "        },\n",
    "    ],\n",
    "    objectives={\"Objective\": ObjectiveProperties(minimize=False)},\n",
    ")\n",
    "\n",
    "# append the manufacturer suggestion\n",
    "parameterization = {\"ceram_frac\": 0.62, \"solv_frac\": 0.3, \"binder_frac\": 0.1, \"plast_frac\": 0.01, \"task\": \"B\"}\n",
    "ax_client.attach_trial(parameterization)\n",
    "ax_client.complete_trial(trial_index=0, raw_data={\"Objective\": strength_binderB(**parameterization)})\n",
    "\n",
    "for i in range(20+10-1):\n",
    "    p, trial_index = ax_client.get_next_trial(\n",
    "        fixed_features=ObservationFeatures({\"task\": \"A\" if i < 20 else \"B\"})\n",
    "    )\n",
    "\n",
    "    if p[\"task\"] == \"A\":\n",
    "        sigma = strength_binderA(p[\"ceram_frac\"], p[\"solv_frac\"], p[\"binder_frac\"], p[\"plast_frac\"])\n",
    "    else:\n",
    "        sigma = strength_binderB(p[\"ceram_frac\"], p[\"solv_frac\"], p[\"binder_frac\"], p[\"plast_frac\"])\n",
    "\n",
    "    ax_client.complete_trial(trial_index=trial_index, raw_data={\"Objective\": sigma})"
   ]
  },
  {
   "cell_type": "markdown",
   "metadata": {},
   "source": [
    ".. note::\n",
    "\n",
    "    [NOTE] The output of the above cell has been hidden in the interest of clarity."
   ]
  },
  {
   "cell_type": "code",
   "execution_count": 3,
   "metadata": {},
   "outputs": [
    {
     "name": "stderr",
     "output_type": "stream",
     "text": [
      "[WARNING 01-30 13:43:19] ax.service.utils.report_utils: Column reason missing for all trials. Not appending column.\n"
     ]
    },
    {
     "data": {
      "image/png": "[encoded data removed]",
      "text/plain": [
       "<Figure size 900x600 with 1 Axes>"
      ]
     },
     "metadata": {},
     "output_type": "display_data"
    }
   ],
   "source": [
    "# Plot results\n",
    "objectives = ax_client.objective_names\n",
    "df = ax_client.get_trials_data_frame()\n",
    "\n",
    "fig, ax = plt.subplots(figsize=(6, 4), dpi=150)\n",
    "task = \"B\"  # specify task results to plot\n",
    "df = df[df.task == task]\n",
    "ax.scatter(df.index, df[objectives], ec=\"k\", fc=\"none\", label=\"Observed\")\n",
    "ax.plot(\n",
    "    df.index,\n",
    "    np.maximum.accumulate(df[objectives]), # MOD: change to maximum\n",
    "    color=\"#0033FF\",\n",
    "    lw=2,\n",
    "    label=\"Best to Trial\",\n",
    ")\n",
    "ax.set_title(f\"Task {task}\")\n",
    "ax.set_xlabel(\"Trial Number\")\n",
    "ax.set_ylabel(objectives[0])\n",
    "\n",
    "ax.legend()\n",
    "plt.show()"
   ]
  },
  {
   "cell_type": "markdown",
   "metadata": {},
   "source": [
    "## Did Using the Multitask Model Help?\n",
    "\n",
    "We might be curious to see whether the use of a multi-task GP helped in this scenario. To validate our decision, we can test what would have happened if we tried to optimize the Binder B ceramic formulation in isolation. Below we have generated a simple script to perform this. In the interest of brevity we exclude the honegumi selection details and changes."
   ]
  },
  {
   "cell_type": "code",
   "execution_count": 4,
   "metadata": {},
   "outputs": [
    {
     "name": "stderr",
     "output_type": "stream",
     "text": [
      "[WARNING 01-30 13:43:19] ax.service.ax_client: Random seed set to 42. Note that this setting only affects the Sobol quasi-random generator and BoTorch-powered Bayesian optimization models. For the latter models, setting random seed to the same number for two optimizations will make the generated trials similar, but not exactly the same, and over time the trials will diverge more.\n",
      "[INFO 01-30 13:43:19] ax.service.utils.instantiation: Inferred value type of ParameterType.FLOAT for parameter ceram_frac. If that is not the expected value type, you can explicitly specify 'value_type' ('int', 'float', 'bool' or 'str') in parameter dict.\n",
      "[INFO 01-30 13:43:19] ax.service.utils.instantiation: Inferred value type of ParameterType.FLOAT for parameter solv_frac. If that is not the expected value type, you can explicitly specify 'value_type' ('int', 'float', 'bool' or 'str') in parameter dict.\n",
      "[INFO 01-30 13:43:19] ax.service.utils.instantiation: Inferred value type of ParameterType.FLOAT for parameter binder_frac. If that is not the expected value type, you can explicitly specify 'value_type' ('int', 'float', 'bool' or 'str') in parameter dict.\n",
      "[INFO 01-30 13:43:19] ax.service.utils.instantiation: Inferred value type of ParameterType.FLOAT for parameter plast_frac. If that is not the expected value type, you can explicitly specify 'value_type' ('int', 'float', 'bool' or 'str') in parameter dict.\n",
      "[INFO 01-30 13:43:19] ax.service.utils.instantiation: Created search space: SearchSpace(parameters=[RangeParameter(name='ceram_frac', parameter_type=FLOAT, range=[0.5, 0.7]), RangeParameter(name='solv_frac', parameter_type=FLOAT, range=[0.2, 0.3]), RangeParameter(name='binder_frac', parameter_type=FLOAT, range=[0.1, 0.2]), RangeParameter(name='plast_frac', parameter_type=FLOAT, range=[0.0, 0.01])], parameter_constraints=[]).\n",
      "[INFO 01-30 13:43:19] ax.core.experiment: Attached custom parameterizations [{'ceram_frac': 0.62, 'solv_frac': 0.3, 'binder_frac': 0.1, 'plast_frac': 0.01}] as trial 0.\n",
      "[WARNING 01-30 13:43:20] ax.modelbridge.cross_validation: Metric strength was unable to be reliably fit.\n",
      "[WARNING 01-30 13:43:20] ax.service.utils.best_point: Model fit is poor; falling back on raw data for best point.\n",
      "[WARNING 01-30 13:43:20] ax.service.utils.best_point: Model fit is poor and data on objective metric strength is noisy; interpret best points results carefully.\n"
     ]
    },
    {
     "name": "stdout",
     "output_type": "stream",
     "text": [
      "\n",
      "isolated optimal strength: 15.11234066831853\n"
     ]
    }
   ],
   "source": [
    "import numpy as np\n",
    "from ax.service.ax_client import AxClient, ObjectiveProperties\n",
    "\n",
    "obj1_name = \"strength\"\n",
    "\n",
    "gs = GenerationStrategy(\n",
    "    steps=[\n",
    "        GenerationStep(\n",
    "            model=Models.SOBOL,\n",
    "            num_trials=4,\n",
    "        ),\n",
    "        GenerationStep(\n",
    "            model=Models.BOTORCH_MODULAR,\n",
    "            num_trials=-1,\n",
    "        ),\n",
    "    ]\n",
    ")\n",
    "\n",
    "ax_client = AxClient(generation_strategy=gs, verbose_logging=False, random_seed=42)\n",
    "\n",
    "ax_client.create_experiment(\n",
    "    parameters=[\n",
    "        {\"name\": \"ceram_frac\",  \"type\": \"range\", \"bounds\": [0.5, 0.7]},\n",
    "        {\"name\": \"solv_frac\",   \"type\": \"range\", \"bounds\": [0.2, 0.3]},\n",
    "        {\"name\": \"binder_frac\", \"type\": \"range\", \"bounds\": [0.1, 0.2]},\n",
    "        {\"name\": \"plast_frac\",  \"type\": \"range\", \"bounds\": [0.0, 0.01]},\n",
    "    ],\n",
    "    objectives={\n",
    "        obj1_name: ObjectiveProperties(minimize=False),\n",
    "    },\n",
    ")\n",
    "\n",
    "parameterization = {\"ceram_frac\": 0.62, \"solv_frac\": 0.3, \"binder_frac\": 0.1, \"plast_frac\": 0.01}\n",
    "ax_client.attach_trial(parameterization)\n",
    "ax_client.complete_trial(trial_index=0, raw_data={obj1_name: strength_binderB(**parameterization)})\n",
    "\n",
    "for _ in range(6-1):\n",
    "\n",
    "    p, trial_index = ax_client.get_next_trial()\n",
    "\n",
    "    sigma = strength_binderB(p[\"ceram_frac\"], p[\"solv_frac\"], p[\"binder_frac\"], p[\"plast_frac\"])\n",
    "\n",
    "    ax_client.complete_trial(trial_index=trial_index, raw_data=sigma)\n",
    "\n",
    "best_parameters, metrics = ax_client.get_best_parameters()\n",
    "\n",
    "print(\"\\nisolated optimal strength:\", metrics[0]['strength'])"
   ]
  },
  {
   "cell_type": "markdown",
   "metadata": {},
   "source": [
    "It seems that we did benefit from using the multi-task approach!"
   ]
  },
  {
   "cell_type": "markdown",
   "metadata": {},
   "source": [
    "## Next Steps\n",
    "\n",
    "Interested in taking this further? Try to implement the following on your own!\n",
    "\n",
    "1. What if we had ignored the manufacturer and instead plugged the optimal value from the optimization of the Binder A system as the initial Binder B system point? Would that have improved our optimization performance?\n",
    "\n",
    "2. We waited to optimize the Binder B system until we finished the Binder A system, but what if we had interspersed the Binder B trials and attempted a Binder B trial every two Binder A trials. Would that have helped or hurt our performance?"
   ]
  }
 ],
 "metadata": {
  "kernelspec": {
   "display_name": "ax_env_pip",
   "language": "python",
   "name": "python3"
  },
  "language_info": {
   "codemirror_mode": {
    "name": "ipython",
    "version": 3
   },
   "file_extension": ".py",
   "mimetype": "text/x-python",
   "name": "python",
   "nbconvert_exporter": "python",
   "pygments_lexer": "ipython3",
   "version": "3.10.14"
  }
 },
 "nbformat": 4,
 "nbformat_minor": 2
}
