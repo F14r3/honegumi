{
 "cells": [
  {
   "cell_type": "markdown",
   "metadata": {},
   "source": [
    "# Optimizing MAX Phases with Featurization\n",
    "\n",
    "Some design spaces cannot be reduced to simple, continuous representations that can be fed into Ax. For example, material compositions often span the periodic table and are subject to non-linear constraints like parsimony and electron counting rules that would be impossible to express in an Ax parameters object. One possible solution is to represent the composition as a one dimensional vector of the molar fractions of the materials' constituent elements. However, this representation assumes simple elemental substitution rules, which tyically only hold in limited composition ranges. Additionally, such a representation provides the model with little information about the unerlying physics and has been shown to be a weak predictor of material properties.\n",
    "\n",
    "Featurization is the process of creating new representations that better describe the input data and are more ammendable to statistical modeling. In the context of material compositions, featurization typically involves creating a weighted combination of teh constituent elements' atomic properties. In this scheme, a material like Al2O3 is represented as a vector by averaging the properties of aluminum and oxygen, weighted by their molar fractions. In this tutorial, the popular featurization package,[`CBFV`](https://pypi.org/project/CBFV/), will be used to perform the featurization task.\n",
    "\n",
    "---\n",
    "\n",
    "MAX phase materials are a specialized group of compounds that blend the properties of metals and ceramics. MAX phase compositions are comprised of M, a transition metal; A, a group 13 or 14 element; and X, carbon or nitrogen. MAX phases are of particular interest in high temperature, structural applications. \n",
    "\n",
    "You have been tasked with finding a new MAX phase composition with a high elastic modulus to be used as a cladding material in a next generation nuclear reactor. A colleague in your lab spent a few weeks looking through the literature and has identified a set of reported MAX phase materials that haven't been tested for modulus, but look promising.\n",
    "\n",
    "You believe Bayesian optimization can help faciliate this search, and decide to use Honegumi to help construct an optimization script.\n",
    "\n",
    "To simulate this task, a helper function is provided that automatically pulls and splits the data in a representative way. An explanation of this function is provided in subsequent cells and in line comments. Although optimal values could easily be found using the tabulated data, we will pretend that such data is unknown and use Bayesian optimization to find the optimal material instead."
   ]
  },
  {
   "cell_type": "code",
   "execution_count": 36,
   "metadata": {},
   "outputs": [],
   "source": [
    "import matplotlib.pyplot as plt\n",
    "from CBFV import composition\n",
    "from matminer.datasets import load_dataset\n",
    "\n",
    "def generate_data(seed=42):\n",
    "    \"\"\"\n",
    "    Constructs training and cadidate data from a benchmark MAX phase dataset by sampling\n",
    "    8 points with elastic modulus <= 200 GPa for training and using the remaining data\n",
    "    as candidates for optimization.\n",
    "\n",
    "    Args:\n",
    "        seed (int): Random seed for reproducibility. Default is 42.\n",
    "\n",
    "    Returns:\n",
    "        tuple: A tuple containing two DataFrames:\n",
    "            - `train`: A DataFrame of 8 sampled points with elastic modulus <= 200 GPa.\n",
    "            - `candidate`: A DataFrame of the remaining data after sampling.\n",
    "    \"\"\"\n",
    "    # load benchmark dataset, pull the formula and elastic modulus\n",
    "    data = load_dataset(\"m2ax\", pbar=True)[['formula', 'elastic modulus']]\n",
    "    data.rename(columns={'elastic modulus': 'target'}, inplace=True)\n",
    "\n",
    "    # generate an initial data by sampling 8 points with elastic modulus <= 200 GPa\n",
    "    train = data[data.target <= 200].sample(n=8, random_state=seed)\n",
    "    candidates = data.drop(train.index)\n",
    "\n",
    "    return train, candidates"
   ]
  },
  {
   "cell_type": "markdown",
   "metadata": {},
   "source": [
    "## Featurizing Compositions\n",
    "\n",
    "In the code cell below, we will featurize the training and candidate materials using the `CBFV` packages. In the interest of keeping the tutorial simple, we will subsample the generated features, keeping every 20th feature."
   ]
  },
  {
   "cell_type": "code",
   "execution_count": 37,
   "metadata": {},
   "outputs": [
    {
     "name": "stderr",
     "output_type": "stream",
     "text": [
      "Reading file /Users/andrewf/miniconda3/envs/ax_env_pip/lib/python3.10/site-packages/matminer/datasets/m2ax.json.gz: 0it [00:00, ?it/s]0, ?it/s]\n",
      "Decoding objects from /Users/andrewf/miniconda3/envs/ax_env_pip/lib/python3.10/site-packages/matminer/datasets/m2ax.json.gz: 0it [00:00, ?it/s]\n"
     ]
    },
    {
     "data": {
      "text/html": [
       "<div>\n",
       "<style scoped>\n",
       "    .dataframe tbody tr th:only-of-type {\n",
       "        vertical-align: middle;\n",
       "    }\n",
       "\n",
       "    .dataframe tbody tr th {\n",
       "        vertical-align: top;\n",
       "    }\n",
       "\n",
       "    .dataframe thead th {\n",
       "        text-align: right;\n",
       "    }\n",
       "</style>\n",
       "<table border=\"1\" class=\"dataframe\">\n",
       "  <thead>\n",
       "    <tr style=\"text-align: right;\">\n",
       "      <th></th>\n",
       "      <th>formula</th>\n",
       "      <th>target</th>\n",
       "    </tr>\n",
       "  </thead>\n",
       "  <tbody>\n",
       "    <tr>\n",
       "      <th>89</th>\n",
       "      <td>Cr2SnN</td>\n",
       "      <td>141</td>\n",
       "    </tr>\n",
       "    <tr>\n",
       "      <th>45</th>\n",
       "      <td>Ti2TlN</td>\n",
       "      <td>200</td>\n",
       "    </tr>\n",
       "    <tr>\n",
       "      <th>111</th>\n",
       "      <td>Mo2PbN</td>\n",
       "      <td>138</td>\n",
       "    </tr>\n",
       "    <tr>\n",
       "      <th>174</th>\n",
       "      <td>Hf2CdC</td>\n",
       "      <td>174</td>\n",
       "    </tr>\n",
       "    <tr>\n",
       "      <th>0</th>\n",
       "      <td>Sc2AlC</td>\n",
       "      <td>140</td>\n",
       "    </tr>\n",
       "  </tbody>\n",
       "</table>\n",
       "</div>"
      ],
      "text/plain": [
       "    formula  target\n",
       "89   Cr2SnN     141\n",
       "45   Ti2TlN     200\n",
       "111  Mo2PbN     138\n",
       "174  Hf2CdC     174\n",
       "0    Sc2AlC     140"
      ]
     },
     "metadata": {},
     "output_type": "display_data"
    },
    {
     "name": "stderr",
     "output_type": "stream",
     "text": [
      "Processing Input Data: 100%|██████████| 8/8 [00:00<00:00, 4279.90it/s]\n"
     ]
    },
    {
     "name": "stdout",
     "output_type": "stream",
     "text": [
      "\tFeaturizing Compositions...\n"
     ]
    },
    {
     "name": "stderr",
     "output_type": "stream",
     "text": [
      "Assigning Features...: 100%|██████████| 8/8 [00:00<00:00, 9592.46it/s]\n"
     ]
    },
    {
     "name": "stdout",
     "output_type": "stream",
     "text": [
      "\tCreating Pandas Objects...\n"
     ]
    },
    {
     "name": "stderr",
     "output_type": "stream",
     "text": [
      "Processing Input Data: 100%|██████████| 215/215 [00:00<00:00, 42091.83it/s]\n"
     ]
    },
    {
     "name": "stdout",
     "output_type": "stream",
     "text": [
      "\tFeaturizing Compositions...\n"
     ]
    },
    {
     "name": "stderr",
     "output_type": "stream",
     "text": [
      "Assigning Features...: 100%|██████████| 215/215 [00:00<00:00, 12453.57it/s]"
     ]
    },
    {
     "name": "stdout",
     "output_type": "stream",
     "text": [
      "\tCreating Pandas Objects...\n"
     ]
    },
    {
     "name": "stderr",
     "output_type": "stream",
     "text": [
      "\n"
     ]
    }
   ],
   "source": [
    "# create training and candidate datasets\n",
    "train, candidates = generate_data()\n",
    "\n",
    "# show the first five compositions in the training set\n",
    "display(train.head())\n",
    "\n",
    "# featurize the compositions, keep every 20th feature for tutorial simplicity\n",
    "X_train, y_train, formula, _ = composition.generate_features(train)\n",
    "X_train = X_train.iloc[:, ::20]\n",
    "\n",
    "X_candidates, y_candidates, _, _ = composition.generate_features(candidates)\n",
    "X_candidates = X_candidates.iloc[:, ::20]"
   ]
  },
  {
   "cell_type": "markdown",
   "metadata": {},
   "source": [
    "## Applying Honegumi\n",
    "\n",
    "We will now use the [Honegumi](https://honegumi.readthedocs.io/en/latest/index.html) website to generate a script that will help us optimize our material composition for elastic modulus. Unlike other tutorials, however, this will require more extensive modifications to the generated script in order to facilitate feeding in predefined candidate solutions. From the description, we observe that our problem is a **single objective** optimization problem with some **existing materials data**. Additionally, as our problem doesn't have a simple continuous representation, typical Sobol generation won't work, so we will want to adjust the generation strategy somewhat, which can be exposed by selecting the **Fully Bayesian** option.\n",
    "\n",
    "![Featurization Selection](featurization_selection.png)"
   ]
  },
  {
   "cell_type": "markdown",
   "metadata": {},
   "source": [
    "The Honegumi generated optimization script will provide a framework for our optimization campaign that we can modify to suit our specific problem needs. In the code sections below, we will make several modifications to this generated script to make it compatible with our problem."
   ]
  },
  {
   "cell_type": "markdown",
   "metadata": {},
   "source": [
    "## Modifying the Code for Our Problem\n",
    "We can modify this code to suit our problem with a few simple modifications. Wherever a modification has been made to the code, a comment starting with `# CHANGE:` has been added along with a brief description of the change."
   ]
  },
  {
   "cell_type": "code",
   "execution_count": 38,
   "metadata": {},
   "outputs": [
    {
     "name": "stderr",
     "output_type": "stream",
     "text": [
      "[INFO 08-08 15:35:14] ax.service.ax_client: Starting optimization with verbose logging. To disable logging, set the `verbose_logging` argument to `False`. Note that float values in the logs are rounded to 6 decimal points.\n",
      "[INFO 08-08 15:35:14] ax.service.utils.instantiation: Inferred value type of ParameterType.FLOAT for parameter avg_Atomic_Number. If that is not the expected value type, you can explicitly specify 'value_type' ('int', 'float', 'bool' or 'str') in parameter dict.\n",
      "[INFO 08-08 15:35:14] ax.service.utils.instantiation: Inferred value type of ParameterType.FLOAT for parameter avg_Allred-Rockow_electronegativity. If that is not the expected value type, you can explicitly specify 'value_type' ('int', 'float', 'bool' or 'str') in parameter dict.\n",
      "[INFO 08-08 15:35:14] ax.service.utils.instantiation: Inferred value type of ParameterType.FLOAT for parameter avg_heat_of_vaporization_(kJ/mol)_. If that is not the expected value type, you can explicitly specify 'value_type' ('int', 'float', 'bool' or 'str') in parameter dict.\n",
      "[INFO 08-08 15:35:14] ax.service.utils.instantiation: Inferred value type of ParameterType.FLOAT for parameter dev_Pauling_Electronegativity. If that is not the expected value type, you can explicitly specify 'value_type' ('int', 'float', 'bool' or 'str') in parameter dict.\n",
      "[INFO 08-08 15:35:14] ax.service.utils.instantiation: Inferred value type of ParameterType.FLOAT for parameter dev_Boiling_Point_(K). If that is not the expected value type, you can explicitly specify 'value_type' ('int', 'float', 'bool' or 'str') in parameter dict.\n",
      "[INFO 08-08 15:35:14] ax.service.utils.instantiation: Inferred value type of ParameterType.FLOAT for parameter range_Covalent_Radius. If that is not the expected value type, you can explicitly specify 'value_type' ('int', 'float', 'bool' or 'str') in parameter dict.\n",
      "[INFO 08-08 15:35:14] ax.service.utils.instantiation: Inferred value type of ParameterType.FLOAT for parameter range_outer_shell_electrons. If that is not the expected value type, you can explicitly specify 'value_type' ('int', 'float', 'bool' or 'str') in parameter dict.\n",
      "[INFO 08-08 15:35:14] ax.service.utils.instantiation: Inferred value type of ParameterType.FLOAT for parameter max_Mendeleev_Number. If that is not the expected value type, you can explicitly specify 'value_type' ('int', 'float', 'bool' or 'str') in parameter dict.\n",
      "[INFO 08-08 15:35:14] ax.service.utils.instantiation: Inferred value type of ParameterType.FLOAT for parameter max_Number_of_unfilled_s_valence_electrons. If that is not the expected value type, you can explicitly specify 'value_type' ('int', 'float', 'bool' or 'str') in parameter dict.\n",
      "[INFO 08-08 15:35:14] ax.service.utils.instantiation: Inferred value type of ParameterType.FLOAT for parameter min_families. If that is not the expected value type, you can explicitly specify 'value_type' ('int', 'float', 'bool' or 'str') in parameter dict.\n",
      "[INFO 08-08 15:35:14] ax.service.utils.instantiation: Inferred value type of ParameterType.FLOAT for parameter min_valence_s. If that is not the expected value type, you can explicitly specify 'value_type' ('int', 'float', 'bool' or 'str') in parameter dict.\n",
      "[INFO 08-08 15:35:14] ax.service.utils.instantiation: Inferred value type of ParameterType.FLOAT for parameter mode_Atomic_Number. If that is not the expected value type, you can explicitly specify 'value_type' ('int', 'float', 'bool' or 'str') in parameter dict.\n",
      "[INFO 08-08 15:35:14] ax.service.utils.instantiation: Inferred value type of ParameterType.FLOAT for parameter mode_Allred-Rockow_electronegativity. If that is not the expected value type, you can explicitly specify 'value_type' ('int', 'float', 'bool' or 'str') in parameter dict.\n",
      "[INFO 08-08 15:35:14] ax.service.utils.instantiation: Inferred value type of ParameterType.FLOAT for parameter mode_heat_of_vaporization_(kJ/mol)_. If that is not the expected value type, you can explicitly specify 'value_type' ('int', 'float', 'bool' or 'str') in parameter dict.\n",
      "[INFO 08-08 15:35:14] ax.service.utils.instantiation: Created search space: SearchSpace(parameters=[RangeParameter(name='avg_Atomic_Number', parameter_type=FLOAT, range=[-100000.0, 100000.0]), RangeParameter(name='avg_Allred-Rockow_electronegativity', parameter_type=FLOAT, range=[-100000.0, 100000.0]), RangeParameter(name='avg_heat_of_vaporization_(kJ/mol)_', parameter_type=FLOAT, range=[-100000.0, 100000.0]), RangeParameter(name='dev_Pauling_Electronegativity', parameter_type=FLOAT, range=[-100000.0, 100000.0]), RangeParameter(name='dev_Boiling_Point_(K)', parameter_type=FLOAT, range=[-100000.0, 100000.0]), RangeParameter(name='range_Covalent_Radius', parameter_type=FLOAT, range=[-100000.0, 100000.0]), RangeParameter(name='range_outer_shell_electrons', parameter_type=FLOAT, range=[-100000.0, 100000.0]), RangeParameter(name='max_Mendeleev_Number', parameter_type=FLOAT, range=[-100000.0, 100000.0]), RangeParameter(name='max_Number_of_unfilled_s_valence_electrons', parameter_type=FLOAT, range=[-100000.0, 100000.0]), RangeParameter(name='min_families', parameter_type=FLOAT, range=[-100000.0, 100000.0]), RangeParameter(name='min_valence_s', parameter_type=FLOAT, range=[-100000.0, 100000.0]), RangeParameter(name='mode_Atomic_Number', parameter_type=FLOAT, range=[-100000.0, 100000.0]), RangeParameter(name='mode_Allred-Rockow_electronegativity', parameter_type=FLOAT, range=[-100000.0, 100000.0]), RangeParameter(name='mode_heat_of_vaporization_(kJ/mol)_', parameter_type=FLOAT, range=[-100000.0, 100000.0])], parameter_constraints=[]).\n",
      "[INFO 08-08 15:35:14] ax.core.experiment: Attached custom parameterizations [{'avg_Atomic_Number': 26.25, 'avg_Allred-Rockow_electronegativity': 2.0475, 'avg_heat_of_vaporization_(kJ/mol)_': 246.7982, 'dev_Pauling_Electronegativity': 0.48, 'dev_Boiling_Point_(K)': 1025.175, 'range_Covalent_Radius': 0.66, 'range_outer_shell_electrons': 4.0, 'max_Mendeleev_Number': 82.0, 'max_Number_of_unfilled_s_valence_electrons': 1.0, 'min_families': 4.0, 'min_valence_s': 1.0, 'mode_Atomic_Number': 24.0, 'mode_Allred-Rockow_electronegativity': 1.65, 'mode_heat_of_vaporization_(kJ/mol)_': 344.3}] as trial 0.\n",
      "[INFO 08-08 15:35:14] ax.service.ax_client: Completed trial 0 with data: {'elastic_modulus': (141, None)}.\n",
      "[INFO 08-08 15:35:14] ax.core.experiment: Attached custom parameterizations [{'avg_Atomic_Number': 33.0, 'avg_Allred-Rockow_electronegativity': 1.90375, 'avg_heat_of_vaporization_(kJ/mol)_': 252.2232, 'dev_Pauling_Electronegativity': 0.5525, 'dev_Boiling_Point_(K)': 1328.2, 'range_Covalent_Radius': 0.73, 'range_outer_shell_electrons': 3.0, 'max_Mendeleev_Number': 82.0, 'max_Number_of_unfilled_s_valence_electrons': 0.0, 'min_families': 4.0, 'min_valence_s': 2.0, 'mode_Atomic_Number': 22.0, 'mode_Allred-Rockow_electronegativity': 1.38, 'mode_heat_of_vaporization_(kJ/mol)_': 421.0}] as trial 1.\n",
      "[INFO 08-08 15:35:14] ax.service.ax_client: Completed trial 1 with data: {'elastic_modulus': (200, None)}.\n",
      "[INFO 08-08 15:35:14] ax.core.experiment: Attached custom parameterizations [{'avg_Atomic_Number': 43.25, 'avg_Allred-Rockow_electronegativity': 1.965, 'avg_heat_of_vaporization_(kJ/mol)_': 344.1232, 'dev_Pauling_Electronegativity': 0.36625, 'dev_Boiling_Point_(K)': 1919.95, 'range_Covalent_Radius': 0.72, 'range_outer_shell_electrons': 4.0, 'max_Mendeleev_Number': 82.0, 'max_Number_of_unfilled_s_valence_electrons': 1.0, 'min_families': 4.0, 'min_valence_s': 1.0, 'mode_Atomic_Number': 42.0, 'mode_Allred-Rockow_electronegativity': 1.47, 'mode_heat_of_vaporization_(kJ/mol)_': 598.0}] as trial 2.\n",
      "[INFO 08-08 15:35:14] ax.service.ax_client: Completed trial 2 with data: {'elastic_modulus': (138, None)}.\n",
      "[INFO 08-08 15:35:14] ax.core.experiment: Attached custom parameterizations [{'avg_Atomic_Number': 49.5, 'avg_Allred-Rockow_electronegativity': 1.596, 'avg_heat_of_vaporization_(kJ/mol)_': 401.3425, 'dev_Pauling_Electronegativity': 0.42, 'dev_Boiling_Point_(K)': 1466.5, 'range_Covalent_Radius': 0.73, 'range_outer_shell_electrons': 2.0, 'max_Mendeleev_Number': 77.0, 'max_Number_of_unfilled_s_valence_electrons': 0.0, 'min_families': 4.0, 'min_valence_s': 2.0, 'mode_Atomic_Number': 72.0, 'mode_Allred-Rockow_electronegativity': 1.16, 'mode_heat_of_vaporization_(kJ/mol)_': 575.0}] as trial 3.\n",
      "[INFO 08-08 15:35:14] ax.service.ax_client: Completed trial 3 with data: {'elastic_modulus': (174, None)}.\n",
      "[INFO 08-08 15:35:14] ax.core.experiment: Attached custom parameterizations [{'avg_Atomic_Number': 15.25, 'avg_Allred-Rockow_electronegativity': 1.63425, 'avg_heat_of_vaporization_(kJ/mol)_': 319.4, 'dev_Pauling_Electronegativity': 0.415, 'dev_Boiling_Point_(K)': 793.75, 'range_Covalent_Radius': 0.67, 'range_outer_shell_electrons': 2.0, 'max_Mendeleev_Number': 77.0, 'max_Number_of_unfilled_s_valence_electrons': 0.0, 'min_families': 3.0, 'min_valence_s': 2.0, 'mode_Atomic_Number': 21.0, 'mode_Allred-Rockow_electronegativity': 1.19, 'mode_heat_of_vaporization_(kJ/mol)_': 314.2}] as trial 4.\n",
      "[INFO 08-08 15:35:14] ax.service.ax_client: Completed trial 4 with data: {'elastic_modulus': (140, None)}.\n",
      "[INFO 08-08 15:35:14] ax.core.experiment: Attached custom parameterizations [{'avg_Atomic_Number': 25.75, 'avg_Allred-Rockow_electronegativity': 1.9875, 'avg_heat_of_vaporization_(kJ/mol)_': 301.1482, 'dev_Pauling_Electronegativity': 0.4875, 'dev_Boiling_Point_(K)': 1202.175, 'range_Covalent_Radius': 0.66, 'range_outer_shell_electrons': 3.0, 'max_Mendeleev_Number': 82.0, 'max_Number_of_unfilled_s_valence_electrons': 0.0, 'min_families': 4.0, 'min_valence_s': 2.0, 'mode_Atomic_Number': 23.0, 'mode_Allred-Rockow_electronegativity': 1.53, 'mode_heat_of_vaporization_(kJ/mol)_': 453.0}] as trial 5.\n",
      "[INFO 08-08 15:35:14] ax.service.ax_client: Completed trial 5 with data: {'elastic_modulus': (117, None)}.\n",
      "[INFO 08-08 15:35:14] ax.core.experiment: Attached custom parameterizations [{'avg_Atomic_Number': 26.0, 'avg_Allred-Rockow_electronegativity': 1.917, 'avg_heat_of_vaporization_(kJ/mol)_': 335.05, 'dev_Pauling_Electronegativity': 0.2975, 'dev_Boiling_Point_(K)': 858.375, 'range_Covalent_Radius': 0.64, 'range_outer_shell_electrons': 3.0, 'max_Mendeleev_Number': 80.0, 'max_Number_of_unfilled_s_valence_electrons': 1.0, 'min_families': 4.0, 'min_valence_s': 1.0, 'mode_Atomic_Number': 24.0, 'mode_Allred-Rockow_electronegativity': 1.65, 'mode_heat_of_vaporization_(kJ/mol)_': 344.3}] as trial 6.\n",
      "[INFO 08-08 15:35:14] ax.service.ax_client: Completed trial 6 with data: {'elastic_modulus': (160, None)}.\n",
      "[INFO 08-08 15:35:14] ax.core.experiment: Attached custom parameterizations [{'avg_Atomic_Number': 34.25, 'avg_Allred-Rockow_electronegativity': 1.8825, 'avg_heat_of_vaporization_(kJ/mol)_': 365.6482, 'dev_Pauling_Electronegativity': 0.585, 'dev_Boiling_Point_(K)': 1669.95, 'range_Covalent_Radius': 0.73, 'range_outer_shell_electrons': 3.0, 'max_Mendeleev_Number': 82.0, 'max_Number_of_unfilled_s_valence_electrons': 0.0, 'min_families': 4.0, 'min_valence_s': 2.0, 'mode_Atomic_Number': 40.0, 'mode_Allred-Rockow_electronegativity': 1.32, 'mode_heat_of_vaporization_(kJ/mol)_': 582.0}] as trial 7.\n",
      "[INFO 08-08 15:35:14] ax.service.ax_client: Completed trial 7 with data: {'elastic_modulus': (181, None)}.\n",
      "[INFO 08-08 15:35:14] ax.service.ax_client: get_model_predictions() has been called when no model is instantiated. Attempting to instantiate the model for the first time.\n",
      "[INFO 08-08 15:35:14] ax.service.ax_client: Successfully instantiated a model for the first time.\n",
      "[INFO 08-08 15:35:14] ax.core.experiment: Attached custom parameterizations [{'avg_Atomic_Number': 42.5, 'avg_Allred-Rockow_electronegativity': 2.06475, 'avg_heat_of_vaporization_(kJ/mol)_': 415.73045, 'dev_Pauling_Electronegativity': 0.27625, 'dev_Boiling_Point_(K)': 2808.95, 'range_Covalent_Radius': 0.71, 'range_outer_shell_electrons': 3.0, 'max_Mendeleev_Number': 83.0, 'max_Number_of_unfilled_s_valence_electrons': 0.0, 'min_families': 4.0, 'min_valence_s': 2.0, 'mode_Atomic_Number': 74.0, 'mode_Allred-Rockow_electronegativity': 1.47, 'mode_heat_of_vaporization_(kJ/mol)_': 824.0}] as trial 8.\n",
      "[INFO 08-08 15:35:14] ax.service.ax_client: Completed trial 8 with data: {'elastic_modulus': (171, None)}.\n",
      "/Users/andrewf/miniconda3/envs/ax_env_pip/lib/python3.10/site-packages/linear_operator/utils/cholesky.py:40: NumericalWarning: A not p.d., added jitter of 1.0e-08 to the diagonal\n",
      "  warnings.warn(\n",
      "[INFO 08-08 15:35:14] ax.core.experiment: Attached custom parameterizations [{'avg_Atomic_Number': 29.5, 'avg_Allred-Rockow_electronegativity': 1.7945, 'avg_heat_of_vaporization_(kJ/mol)_': 462.675, 'dev_Pauling_Electronegativity': 0.475, 'dev_Boiling_Point_(K)': 636.375, 'range_Covalent_Radius': 0.71, 'range_outer_shell_electrons': 2.0, 'max_Mendeleev_Number': 79.0, 'max_Number_of_unfilled_s_valence_electrons': 0.0, 'min_families': 4.0, 'min_valence_s': 2.0, 'mode_Atomic_Number': 40.0, 'mode_Allred-Rockow_electronegativity': 1.32, 'mode_heat_of_vaporization_(kJ/mol)_': 582.0}] as trial 9.\n",
      "[INFO 08-08 15:35:14] ax.service.ax_client: Completed trial 9 with data: {'elastic_modulus': (218, None)}.\n",
      "[INFO 08-08 15:35:14] ax.core.experiment: Attached custom parameterizations [{'avg_Atomic_Number': 46.5, 'avg_Allred-Rockow_electronegativity': 1.8695, 'avg_heat_of_vaporization_(kJ/mol)_': 583.675, 'dev_Pauling_Electronegativity': 0.155, 'dev_Boiling_Point_(K)': 957.125, 'range_Covalent_Radius': 0.69, 'range_outer_shell_electrons': 2.0, 'max_Mendeleev_Number': 79.0, 'max_Number_of_unfilled_s_valence_electrons': 0.0, 'min_families': 4.0, 'min_valence_s': 2.0, 'mode_Atomic_Number': 74.0, 'mode_Allred-Rockow_electronegativity': 1.47, 'mode_heat_of_vaporization_(kJ/mol)_': 824.0}] as trial 10.\n",
      "[INFO 08-08 15:35:14] ax.service.ax_client: Completed trial 10 with data: {'elastic_modulus': (216, None)}.\n",
      "/Users/andrewf/miniconda3/envs/ax_env_pip/lib/python3.10/site-packages/linear_operator/utils/cholesky.py:40: NumericalWarning: A not p.d., added jitter of 1.0e-08 to the diagonal\n",
      "  warnings.warn(\n",
      "[INFO 08-08 15:35:14] ax.core.experiment: Attached custom parameterizations [{'avg_Atomic_Number': 21.0, 'avg_Allred-Rockow_electronegativity': 1.8995, 'avg_heat_of_vaporization_(kJ/mol)_': 398.175, 'dev_Pauling_Electronegativity': 0.325, 'dev_Boiling_Point_(K)': 611.375, 'range_Covalent_Radius': 0.48, 'range_outer_shell_electrons': 2.0, 'max_Mendeleev_Number': 79.0, 'max_Number_of_unfilled_s_valence_electrons': 0.0, 'min_families': 4.0, 'min_valence_s': 2.0, 'mode_Atomic_Number': 23.0, 'mode_Allred-Rockow_electronegativity': 1.53, 'mode_heat_of_vaporization_(kJ/mol)_': 453.0}] as trial 11.\n",
      "[INFO 08-08 15:35:14] ax.service.ax_client: Completed trial 11 with data: {'elastic_modulus': (263, None)}.\n",
      "/Users/andrewf/miniconda3/envs/ax_env_pip/lib/python3.10/site-packages/linear_operator/utils/cholesky.py:40: NumericalWarning: A not p.d., added jitter of 1.0e-08 to the diagonal\n",
      "  warnings.warn(\n",
      "[INFO 08-08 15:35:14] ax.core.experiment: Attached custom parameterizations [{'avg_Atomic_Number': 16.0, 'avg_Allred-Rockow_electronegativity': 1.92475, 'avg_heat_of_vaporization_(kJ/mol)_': 160.83045, 'dev_Pauling_Electronegativity': 0.6275, 'dev_Boiling_Point_(K)': 1394.95, 'range_Covalent_Radius': 0.69, 'range_outer_shell_electrons': 3.0, 'max_Mendeleev_Number': 83.0, 'max_Number_of_unfilled_s_valence_electrons': 0.0, 'min_families': 3.0, 'min_valence_s': 2.0, 'mode_Atomic_Number': 21.0, 'mode_Allred-Rockow_electronegativity': 1.19, 'mode_heat_of_vaporization_(kJ/mol)_': 314.2}] as trial 12.\n",
      "[INFO 08-08 15:35:14] ax.service.ax_client: Completed trial 12 with data: {'elastic_modulus': (200, None)}.\n",
      "/Users/andrewf/miniconda3/envs/ax_env_pip/lib/python3.10/site-packages/linear_operator/utils/cholesky.py:40: NumericalWarning: A not p.d., added jitter of 1.0e-08 to the diagonal\n",
      "  warnings.warn(\n",
      "[INFO 08-08 15:35:15] ax.core.experiment: Attached custom parameterizations [{'avg_Atomic_Number': 20.0, 'avg_Allred-Rockow_electronegativity': 1.7295, 'avg_heat_of_vaporization_(kJ/mol)_': 328.775, 'dev_Pauling_Electronegativity': 0.46, 'dev_Boiling_Point_(K)': 748.375, 'range_Covalent_Radius': 0.67, 'range_outer_shell_electrons': 2.0, 'max_Mendeleev_Number': 79.0, 'max_Number_of_unfilled_s_valence_electrons': 0.0, 'min_families': 3.0, 'min_valence_s': 2.0, 'mode_Atomic_Number': 21.0, 'mode_Allred-Rockow_electronegativity': 1.19, 'mode_heat_of_vaporization_(kJ/mol)_': 314.2}] as trial 13.\n",
      "[INFO 08-08 15:35:15] ax.service.ax_client: Completed trial 13 with data: {'elastic_modulus': (175, None)}.\n",
      "/Users/andrewf/miniconda3/envs/ax_env_pip/lib/python3.10/site-packages/linear_operator/utils/cholesky.py:40: NumericalWarning: A not p.d., added jitter of 1.0e-08 to the diagonal\n",
      "  warnings.warn(\n",
      "[INFO 08-08 15:35:15] ax.core.experiment: Attached custom parameterizations [{'avg_Atomic_Number': 41.5, 'avg_Allred-Rockow_electronegativity': 1.90975, 'avg_heat_of_vaporization_(kJ/mol)_': 291.23045, 'dev_Pauling_Electronegativity': 0.6575, 'dev_Boiling_Point_(K)': 2278.95, 'range_Covalent_Radius': 0.75, 'range_outer_shell_electrons': 3.0, 'max_Mendeleev_Number': 83.0, 'max_Number_of_unfilled_s_valence_electrons': 0.0, 'min_families': 4.0, 'min_valence_s': 2.0, 'mode_Atomic_Number': 72.0, 'mode_Allred-Rockow_electronegativity': 1.16, 'mode_heat_of_vaporization_(kJ/mol)_': 575.0}] as trial 14.\n",
      "[INFO 08-08 15:35:15] ax.service.ax_client: Completed trial 14 with data: {'elastic_modulus': (316, None)}.\n",
      "/Users/andrewf/miniconda3/envs/ax_env_pip/lib/python3.10/site-packages/linear_operator/utils/cholesky.py:40: NumericalWarning: A not p.d., added jitter of 1.0e-08 to the diagonal\n",
      "  warnings.warn(\n",
      "[INFO 08-08 15:35:15] ax.core.experiment: Attached custom parameterizations [{'avg_Atomic_Number': 32.75, 'avg_Allred-Rockow_electronegativity': 1.825, 'avg_heat_of_vaporization_(kJ/mol)_': 202.2232, 'dev_Pauling_Electronegativity': 0.56625, 'dev_Boiling_Point_(K)': 1029.95, 'range_Covalent_Radius': 0.72, 'range_outer_shell_electrons': 3.0, 'max_Mendeleev_Number': 82.0, 'max_Number_of_unfilled_s_valence_electrons': 0.0, 'min_families': 3.0, 'min_valence_s': 2.0, 'mode_Atomic_Number': 21.0, 'mode_Allred-Rockow_electronegativity': 1.19, 'mode_heat_of_vaporization_(kJ/mol)_': 314.2}] as trial 15.\n",
      "[INFO 08-08 15:35:15] ax.service.ax_client: Completed trial 15 with data: {'elastic_modulus': (165, None)}.\n",
      "/Users/andrewf/miniconda3/envs/ax_env_pip/lib/python3.10/site-packages/linear_operator/utils/cholesky.py:40: NumericalWarning: A not p.d., added jitter of 1.0e-08 to the diagonal\n",
      "  warnings.warn(\n",
      "[INFO 08-08 15:35:15] ax.core.experiment: Attached custom parameterizations [{'avg_Atomic_Number': 30.0, 'avg_Allred-Rockow_electronegativity': 1.8395, 'avg_heat_of_vaporization_(kJ/mol)_': 512.675, 'dev_Pauling_Electronegativity': 0.34, 'dev_Boiling_Point_(K)': 727.625, 'range_Covalent_Radius': 0.6, 'range_outer_shell_electrons': 3.0, 'max_Mendeleev_Number': 79.0, 'max_Number_of_unfilled_s_valence_electrons': 1.0, 'min_families': 4.0, 'min_valence_s': 1.0, 'mode_Atomic_Number': 41.0, 'mode_Allred-Rockow_electronegativity': 1.41, 'mode_heat_of_vaporization_(kJ/mol)_': 682.0}] as trial 16.\n",
      "[INFO 08-08 15:35:15] ax.service.ax_client: Completed trial 16 with data: {'elastic_modulus': (268, None)}.\n",
      "/Users/andrewf/miniconda3/envs/ax_env_pip/lib/python3.10/site-packages/linear_operator/utils/cholesky.py:40: NumericalWarning: A not p.d., added jitter of 1.0e-08 to the diagonal\n",
      "  warnings.warn(\n",
      "[INFO 08-08 15:35:15] ax.core.experiment: Attached custom parameterizations [{'avg_Atomic_Number': 42.0, 'avg_Allred-Rockow_electronegativity': 1.99975, 'avg_heat_of_vaporization_(kJ/mol)_': 375.23045, 'dev_Pauling_Electronegativity': 0.5575, 'dev_Boiling_Point_(K)': 2691.45, 'range_Covalent_Radius': 0.63, 'range_outer_shell_electrons': 3.0, 'max_Mendeleev_Number': 83.0, 'max_Number_of_unfilled_s_valence_electrons': 0.0, 'min_families': 4.0, 'min_valence_s': 2.0, 'mode_Atomic_Number': 73.0, 'mode_Allred-Rockow_electronegativity': 1.34, 'mode_heat_of_vaporization_(kJ/mol)_': 743.0}] as trial 17.\n",
      "[INFO 08-08 15:35:15] ax.service.ax_client: Completed trial 17 with data: {'elastic_modulus': (315, None)}.\n",
      "/Users/andrewf/miniconda3/envs/ax_env_pip/lib/python3.10/site-packages/linear_operator/utils/cholesky.py:40: NumericalWarning: A not p.d., added jitter of 1.0e-08 to the diagonal\n",
      "  warnings.warn(\n",
      "[INFO 08-08 15:35:15] ax.core.experiment: Attached custom parameterizations [{'avg_Atomic_Number': 45.5, 'avg_Allred-Rockow_electronegativity': 1.7145, 'avg_heat_of_vaporization_(kJ/mol)_': 459.175, 'dev_Pauling_Electronegativity': 0.49, 'dev_Boiling_Point_(K)': 692.125, 'range_Covalent_Radius': 0.73, 'range_outer_shell_electrons': 2.0, 'max_Mendeleev_Number': 79.0, 'max_Number_of_unfilled_s_valence_electrons': 0.0, 'min_families': 4.0, 'min_valence_s': 2.0, 'mode_Atomic_Number': 72.0, 'mode_Allred-Rockow_electronegativity': 1.16, 'mode_heat_of_vaporization_(kJ/mol)_': 575.0}] as trial 18.\n",
      "[INFO 08-08 15:35:15] ax.service.ax_client: Completed trial 18 with data: {'elastic_modulus': (238, None)}.\n",
      "/Users/andrewf/miniconda3/envs/ax_env_pip/lib/python3.10/site-packages/linear_operator/utils/cholesky.py:40: NumericalWarning: A not p.d., added jitter of 1.0e-08 to the diagonal\n",
      "  warnings.warn(\n",
      "[INFO 08-08 15:35:15] ax.core.experiment: Attached custom parameterizations [{'avg_Atomic_Number': 42.0, 'avg_Allred-Rockow_electronegativity': 1.85, 'avg_heat_of_vaporization_(kJ/mol)_': 597.005, 'dev_Pauling_Electronegativity': 0.19625, 'dev_Boiling_Point_(K)': 1135.25, 'range_Covalent_Radius': 0.69, 'range_outer_shell_electrons': 2.0, 'max_Mendeleev_Number': 78.0, 'max_Number_of_unfilled_s_valence_electrons': 0.0, 'min_families': 4.0, 'min_valence_s': 2.0, 'mode_Atomic_Number': 74.0, 'mode_Allred-Rockow_electronegativity': 1.47, 'mode_heat_of_vaporization_(kJ/mol)_': 824.0}] as trial 19.\n",
      "[INFO 08-08 15:35:15] ax.service.ax_client: Completed trial 19 with data: {'elastic_modulus': (253, None)}.\n",
      "/Users/andrewf/miniconda3/envs/ax_env_pip/lib/python3.10/site-packages/linear_operator/utils/cholesky.py:40: NumericalWarning: A not p.d., added jitter of 1.0e-08 to the diagonal\n",
      "  warnings.warn(\n",
      "[INFO 08-08 15:35:15] ax.core.experiment: Attached custom parameterizations [{'avg_Atomic_Number': 59.0, 'avg_Allred-Rockow_electronegativity': 1.94875, 'avg_heat_of_vaporization_(kJ/mol)_': 453.7232, 'dev_Pauling_Electronegativity': 0.3625, 'dev_Boiling_Point_(K)': 2514.7, 'range_Covalent_Radius': 0.73, 'range_outer_shell_electrons': 3.0, 'max_Mendeleev_Number': 82.0, 'max_Number_of_unfilled_s_valence_electrons': 0.0, 'min_families': 4.0, 'min_valence_s': 2.0, 'mode_Atomic_Number': 74.0, 'mode_Allred-Rockow_electronegativity': 1.47, 'mode_heat_of_vaporization_(kJ/mol)_': 824.0}] as trial 20.\n",
      "[INFO 08-08 15:35:15] ax.service.ax_client: Completed trial 20 with data: {'elastic_modulus': (149, None)}.\n",
      "/Users/andrewf/miniconda3/envs/ax_env_pip/lib/python3.10/site-packages/linear_operator/utils/cholesky.py:40: NumericalWarning: A not p.d., added jitter of 1.0e-08 to the diagonal\n",
      "  warnings.warn(\n",
      "[INFO 08-08 15:35:15] ax.core.experiment: Attached custom parameterizations [{'avg_Atomic_Number': 15.5, 'avg_Allred-Rockow_electronegativity': 1.71, 'avg_heat_of_vaporization_(kJ/mol)_': 342.105, 'dev_Pauling_Electronegativity': 0.4325, 'dev_Boiling_Point_(K)': 807.75, 'range_Covalent_Radius': 0.67, 'range_outer_shell_electrons': 2.0, 'max_Mendeleev_Number': 78.0, 'max_Number_of_unfilled_s_valence_electrons': 0.0, 'min_families': 3.0, 'min_valence_s': 2.0, 'mode_Atomic_Number': 21.0, 'mode_Allred-Rockow_electronegativity': 1.19, 'mode_heat_of_vaporization_(kJ/mol)_': 314.2}] as trial 21.\n",
      "[INFO 08-08 15:35:15] ax.service.ax_client: Completed trial 21 with data: {'elastic_modulus': (184, None)}.\n",
      "/Users/andrewf/miniconda3/envs/ax_env_pip/lib/python3.10/site-packages/linear_operator/utils/cholesky.py:40: NumericalWarning: A not p.d., added jitter of 1.0e-08 to the diagonal\n",
      "  warnings.warn(\n",
      "[INFO 08-08 15:35:15] ax.core.experiment: Attached custom parameterizations [{'avg_Atomic_Number': 34.25, 'avg_Allred-Rockow_electronegativity': 2.055, 'avg_heat_of_vaporization_(kJ/mol)_': 217.2732, 'dev_Pauling_Electronegativity': 0.49125, 'dev_Boiling_Point_(K)': 958.925, 'range_Covalent_Radius': 0.72, 'range_outer_shell_electrons': 4.0, 'max_Mendeleev_Number': 82.0, 'max_Number_of_unfilled_s_valence_electrons': 1.0, 'min_families': 4.0, 'min_valence_s': 1.0, 'mode_Atomic_Number': 24.0, 'mode_Allred-Rockow_electronegativity': 1.65, 'mode_heat_of_vaporization_(kJ/mol)_': 344.3}] as trial 22.\n",
      "[INFO 08-08 15:35:15] ax.service.ax_client: Completed trial 22 with data: {'elastic_modulus': (105, None)}.\n",
      "/Users/andrewf/miniconda3/envs/ax_env_pip/lib/python3.10/site-packages/linear_operator/utils/cholesky.py:40: NumericalWarning: A not p.d., added jitter of 1.0e-08 to the diagonal\n",
      "  warnings.warn(\n",
      "[INFO 08-08 15:35:15] ax.core.experiment: Attached custom parameterizations [{'avg_Atomic_Number': 20.5, 'avg_Allred-Rockow_electronegativity': 1.8245, 'avg_heat_of_vaporization_(kJ/mol)_': 382.175, 'dev_Pauling_Electronegativity': 0.37, 'dev_Boiling_Point_(K)': 634.625, 'range_Covalent_Radius': 0.59, 'range_outer_shell_electrons': 2.0, 'max_Mendeleev_Number': 79.0, 'max_Number_of_unfilled_s_valence_electrons': 0.0, 'min_families': 4.0, 'min_valence_s': 2.0, 'mode_Atomic_Number': 22.0, 'mode_Allred-Rockow_electronegativity': 1.38, 'mode_heat_of_vaporization_(kJ/mol)_': 421.0}] as trial 23.\n",
      "[INFO 08-08 15:35:15] ax.service.ax_client: Completed trial 23 with data: {'elastic_modulus': (257, None)}.\n",
      "/Users/andrewf/miniconda3/envs/ax_env_pip/lib/python3.10/site-packages/linear_operator/utils/cholesky.py:40: NumericalWarning: A not p.d., added jitter of 1.0e-08 to the diagonal\n",
      "  warnings.warn(\n",
      "[INFO 08-08 15:35:15] ax.core.experiment: Attached custom parameterizations [{'avg_Atomic_Number': 16.25, 'avg_Allred-Rockow_electronegativity': 2.00875, 'avg_heat_of_vaporization_(kJ/mol)_': 160.2482, 'dev_Pauling_Electronegativity': 0.725, 'dev_Boiling_Point_(K)': 1353.775, 'range_Covalent_Radius': 0.69, 'range_outer_shell_electrons': 4.0, 'max_Mendeleev_Number': 88.0, 'max_Number_of_unfilled_s_valence_electrons': 0.0, 'min_families': 3.0, 'min_valence_s': 2.0, 'mode_Atomic_Number': 21.0, 'mode_Allred-Rockow_electronegativity': 1.19, 'mode_heat_of_vaporization_(kJ/mol)_': 314.2}] as trial 24.\n",
      "[INFO 08-08 15:35:15] ax.service.ax_client: Completed trial 24 with data: {'elastic_modulus': (244, None)}.\n",
      "/Users/andrewf/miniconda3/envs/ax_env_pip/lib/python3.10/site-packages/linear_operator/utils/cholesky.py:40: NumericalWarning: A not p.d., added jitter of 1.0e-08 to the diagonal\n",
      "  warnings.warn(\n",
      "[INFO 08-08 15:35:15] ax.core.experiment: Attached custom parameterizations [{'avg_Atomic_Number': 22.0, 'avg_Allred-Rockow_electronegativity': 2.14425, 'avg_heat_of_vaporization_(kJ/mol)_': 181.5382, 'dev_Pauling_Electronegativity': 0.475, 'dev_Boiling_Point_(K)': 1230.7, 'range_Covalent_Radius': 0.52, 'range_outer_shell_electrons': 4.0, 'max_Mendeleev_Number': 84.0, 'max_Number_of_unfilled_s_valence_electrons': 1.0, 'min_families': 4.0, 'min_valence_s': 1.0, 'mode_Atomic_Number': 24.0, 'mode_Allred-Rockow_electronegativity': 1.65, 'mode_heat_of_vaporization_(kJ/mol)_': 344.3}] as trial 25.\n",
      "[INFO 08-08 15:35:15] ax.service.ax_client: Completed trial 25 with data: {'elastic_modulus': (171, None)}.\n",
      "/Users/andrewf/miniconda3/envs/ax_env_pip/lib/python3.10/site-packages/linear_operator/utils/cholesky.py:40: NumericalWarning: A not p.d., added jitter of 1.0e-08 to the diagonal\n",
      "  warnings.warn(\n",
      "[INFO 08-08 15:35:15] ax.core.experiment: Attached custom parameterizations [{'avg_Atomic_Number': 26.5, 'avg_Allred-Rockow_electronegativity': 2.06475, 'avg_heat_of_vaporization_(kJ/mol)_': 302.73045, 'dev_Pauling_Electronegativity': 0.32625, 'dev_Boiling_Point_(K)': 2284.95, 'range_Covalent_Radius': 0.7, 'range_outer_shell_electrons': 4.0, 'max_Mendeleev_Number': 83.0, 'max_Number_of_unfilled_s_valence_electrons': 1.0, 'min_families': 4.0, 'min_valence_s': 1.0, 'mode_Atomic_Number': 42.0, 'mode_Allred-Rockow_electronegativity': 1.47, 'mode_heat_of_vaporization_(kJ/mol)_': 598.0}] as trial 26.\n",
      "[INFO 08-08 15:35:15] ax.service.ax_client: Completed trial 26 with data: {'elastic_modulus': (179, None)}.\n"
     ]
    }
   ],
   "source": [
    "import numpy as np\n",
    "from ax.service.ax_client import AxClient, ObjectiveProperties\n",
    "\n",
    "from ax.modelbridge.factory import Models\n",
    "from ax.modelbridge.generation_strategy import GenerationStep, GenerationStrategy\n",
    "\n",
    "import pandas as pd\n",
    "\n",
    "obj1_name = \"elastic_modulus\"  # CHANGE: update objective name\n",
    "\n",
    "# CHANGE: remove the branin dummy objective function, we will use tabulated data\n",
    "\n",
    "# CHANGE: remove dummy training data, we defined this in an earlier cell\n",
    "\n",
    "n_train = len(X_train)\n",
    "\n",
    "gs = GenerationStrategy(\n",
    "    steps=[\n",
    "        # CHANGE: remove sobol sampling step\n",
    "        GenerationStep(\n",
    "            model=Models.BOTORCH_MODULAR,  # CHANGE: use modular botorch model\n",
    "            num_trials=-1,\n",
    "            max_parallelism=3,\n",
    "            model_kwargs={},\n",
    "        ),\n",
    "    ]\n",
    ")\n",
    "\n",
    "ax_client = AxClient(generation_strategy=gs)\n",
    "\n",
    "ax_client.create_experiment(\n",
    "    parameters=[ # CHANGE: create flexible parameters for all generated features\n",
    "        {\"name\": feat, \"type\": \"range\", \"bounds\": [-1e5, 1e5]}\n",
    "        for feat in X_train.columns\n",
    "    ],\n",
    "    objectives={\n",
    "        obj1_name: ObjectiveProperties(minimize=False)  # CHANGE: maximize the objective\n",
    "    },\n",
    ")\n",
    "\n",
    "# Add existing data to the AxClient\n",
    "for i in range(n_train):\n",
    "    parameterization = X_train.iloc[i].to_dict()\n",
    "\n",
    "    ax_client.attach_trial(parameterization)\n",
    "    ax_client.complete_trial(trial_index=i, raw_data=y_train.iloc[i])  # CHANGE: iloc\n",
    "\n",
    "from ax.core.observation import ObservationFeatures # CHANGE: import ObservationFeatures\n",
    "\n",
    "selected_indices = []  # CHANGE: create list to store selected indices\n",
    "for i in range(n_train, n_train + 19): # CHANGE: account for training data in trial num\n",
    "\n",
    "    ax_client.fit_model()  # CHANGE: fit the model to the known data\n",
    "    model = ax_client.generation_strategy.model  # CHANGE: get model object as var\n",
    "\n",
    "    # CHANGE: define candidates as ObservationFeatures before passing to model\n",
    "    obs_feat = [\n",
    "        ObservationFeatures(\n",
    "            {col: val for col, val in zip(X_candidates.columns, X_candidates.iloc[i])}\n",
    "        )\n",
    "        for i in range(len(X_candidates))\n",
    "    ]\n",
    "\n",
    "    # CHANGE: evaluate the acquisition function on each candidate, and pull the best\n",
    "    acqf_values = np.array(\n",
    "        model.evaluate_acquisition_function(observation_features=obs_feat)\n",
    "    )\n",
    "    acqf_values[selected_indices] = -100  # give prev selected points a low value\n",
    "\n",
    "    best_index = np.argmax(acqf_values) # get the index of the best candidate\n",
    "    selected_indices.append(best_index) # append this to the selected indices list\n",
    "\n",
    "    results = y_candidates.iloc[best_index]  # CHANGE: \"measure\" the best idx candidate\n",
    "\n",
    "    ax_client.attach_trial(X_candidates.iloc[best_index].to_dict())\n",
    "    ax_client.complete_trial(trial_index=i, raw_data=results)"
   ]
  },
  {
   "cell_type": "markdown",
   "metadata": {},
   "source": [
    "## Show the Best Material\n",
    "\n",
    "After our optimization loop has completed, we can look through the data to find the best discovered material."
   ]
  },
  {
   "cell_type": "code",
   "execution_count": 26,
   "metadata": {},
   "outputs": [
    {
     "name": "stderr",
     "output_type": "stream",
     "text": [
      "[WARNING 08-06 18:39:07] ax.service.utils.report_utils: Column reason missing for all trials. Not appending column.\n"
     ]
    },
    {
     "name": "stdout",
     "output_type": "stream",
     "text": [
      "\n",
      "Best Material:  Hf2AlN\n"
     ]
    }
   ],
   "source": [
    "best_trial_index = ax_client.get_trials_data_frame()[obj1_name].idxmax()\n",
    "\n",
    "print(\"\\nBest Material: \", formula[best_indices[best_trial_index]])"
   ]
  },
  {
   "cell_type": "markdown",
   "metadata": {},
   "source": [
    "## Plotting Optimization Performance\n",
    "\n",
    "We can plot the performance of our optmization loop to see how the optimization task progressed as a function of iteration count."
   ]
  },
  {
   "cell_type": "code",
   "execution_count": 41,
   "metadata": {},
   "outputs": [
    {
     "name": "stderr",
     "output_type": "stream",
     "text": [
      "[WARNING 08-08 15:37:56] ax.service.utils.report_utils: Column reason missing for all trials. Not appending column.\n"
     ]
    },
    {
     "data": {
      "image/png": "[encoded data removed]",
      "text/plain": [
       "<Figure size 900x600 with 1 Axes>"
      ]
     },
     "metadata": {},
     "output_type": "display_data"
    }
   ],
   "source": [
    "objectives = ax_client.objective_names\n",
    "df = ax_client.get_trials_data_frame()[objectives]\n",
    "\n",
    "best_to_trial = np.maximum.accumulate(df) # change if maximizing\n",
    "\n",
    "fig, ax = plt.subplots(figsize=(6, 4), dpi=150)\n",
    "ax.scatter(df.index, df, ec=\"k\", fc=\"none\", label=\"Observed\")\n",
    "ax.plot(best_to_trial, color=\"#0033FF\", lw=2, label=\"Best to Trial\")\n",
    "\n",
    "ax.axvline(7.5, color=\"r\", ls=\"--\", lw=1)\n",
    "\n",
    "ax.set_xlabel(\"Trial Number\")\n",
    "ax.set_ylabel(objectives[0])\n",
    "ax.legend()\n",
    "plt.show()"
   ]
  }
 ],
 "metadata": {
  "kernelspec": {
   "display_name": "ax_env_pip",
   "language": "python",
   "name": "python3"
  },
  "language_info": {
   "codemirror_mode": {
    "name": "ipython",
    "version": 3
   },
   "file_extension": ".py",
   "mimetype": "text/x-python",
   "name": "python",
   "nbconvert_exporter": "python",
   "pygments_lexer": "ipython3",
   "version": "3.10.14"
  }
 },
 "nbformat": 4,
 "nbformat_minor": 2
}
