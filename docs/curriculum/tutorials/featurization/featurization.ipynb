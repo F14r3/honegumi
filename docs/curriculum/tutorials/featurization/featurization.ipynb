{
 "cells": [
  {
   "cell_type": "markdown",
   "metadata": {},
   "source": [
    "# Optimizing MAX Phases with Featurization\n",
    "\n",
    "Some design spaces cannot be reduced to simple, continuous representations that can be fed into Ax. For example, material compositions often span the periodic table and are subject to non-linear constraints like parsimony and electron counting rules that would be impossible to express in an Ax parameters object. One possible solution is to represent the composition as a one dimensional vector of the molar fractions of the materials' constituent elements. However, this representation assumes simple elemental substitution rules, which tyically only hold in limited composition ranges. Additionally, such a representation provides the model with little information about the unerlying physics and has been shown to be a weak predictor of material properties.\n",
    "\n",
    "Featurization is the process of creating new representations that better describe the input data and are more ammendable to statistical modeling. In the context of material compositions, featurization typically involves creating a weighted combination of teh constituent elements' atomic properties. In this scheme, a material like Al2O3 is represented as a vector by averaging the properties of aluminum and oxygen, weighted by their molar fractions. In this tutorial, the popular featurization package,[`CBFV`](https://pypi.org/project/CBFV/), will be used to perform the featurization task.\n",
    "\n",
    "---\n",
    "\n",
    "MAX phase materials are a specialized group of compounds that blend the properties of metals and ceramics. MAX phase compositions are comprised of M, a transition metal; A, a group 13 or 14 element; and X, carbon or nitrogen. MAX phases are of particular interest in high temperature, structural applications. \n",
    "\n",
    "You have been tasked with finding a new MAX phase composition with a high elastic modulus to be used as a cladding material in a next generation nuclear reactor. A colleague in your lab spent a few weeks looking through the literature and has identified a set of reported MAX phase materials that haven't been tested for modulus, but look promising.\n",
    "\n",
    "You believe Bayesian optimization can help faciliate this search, and decide to use Honegumi to help construct an optimization script.\n",
    "\n",
    "To simulate this task, a helper function is provided that automatically pulls and splits the data in a representative way. An explanation of this function is provided in subsequent cells and in line comments. Although optimal values could easily be found using the tabulated data, we will pretend that such data is unknown and use Bayesian optimization to find the optimal material instead."
   ]
  },
  {
   "cell_type": "code",
   "execution_count": 8,
   "metadata": {},
   "outputs": [],
   "source": [
    "import matplotlib.pyplot as plt\n",
    "from CBFV import composition\n",
    "from matminer.datasets import load_dataset\n",
    "\n",
    "def generate_data(seed=42):\n",
    "    \"\"\"\n",
    "    Constructs training and cadidate data from a benchmark MAX phase dataset by sampling\n",
    "    8 points with elastic modulus <= 200 GPa for training and using the remaining data\n",
    "    as candidates for optimization.\n",
    "\n",
    "    Args:\n",
    "        seed (int): Random seed for reproducibility. Default is 42.\n",
    "\n",
    "    Returns:\n",
    "        tuple: A tuple containing two DataFrames:\n",
    "            - `train`: A DataFrame of 8 sampled points with elastic modulus <= 200 GPa.\n",
    "            - `candidate`: A DataFrame of the remaining data after sampling.\n",
    "    \"\"\"\n",
    "    # load benchmark dataset, pull the formula and elastic modulus\n",
    "    data = load_dataset(\"m2ax\", pbar=True)[['formula', 'elastic modulus']]\n",
    "    data.rename(columns={'elastic modulus': 'target'}, inplace=True)\n",
    "\n",
    "    # generate an initial data by sampling 8 points with elastic modulus <= 200 GPa\n",
    "    train = data[data.target <= 200].sample(n=8, random_state=seed)\n",
    "    candidates = data.drop(train.index)\n",
    "\n",
    "    return train, candidates"
   ]
  },
  {
   "cell_type": "markdown",
   "metadata": {},
   "source": [
    "## Featurizing Compositions\n",
    "\n",
    "In the code cell below, we will featurize the training and candidate materials using the `CBFV` packages. In the interest of keeping the tutorial simple, we will subsample the generated features, keeping every 20th feature."
   ]
  },
  {
   "cell_type": "code",
   "execution_count": 9,
   "metadata": {},
   "outputs": [
    {
     "name": "stderr",
     "output_type": "stream",
     "text": [
      "Reading file /Users/andrewf/miniconda3/envs/ax_env_pip/lib/python3.10/site-packages/matminer/datasets/m2ax.json.gz: 0it [00:00, ?it/s]0, ?it/s]\n",
      "Decoding objects from /Users/andrewf/miniconda3/envs/ax_env_pip/lib/python3.10/site-packages/matminer/datasets/m2ax.json.gz: 0it [00:00, ?it/s]\n"
     ]
    },
    {
     "data": {
      "text/html": [
       "<div>\n",
       "<style scoped>\n",
       "    .dataframe tbody tr th:only-of-type {\n",
       "        vertical-align: middle;\n",
       "    }\n",
       "\n",
       "    .dataframe tbody tr th {\n",
       "        vertical-align: top;\n",
       "    }\n",
       "\n",
       "    .dataframe thead th {\n",
       "        text-align: right;\n",
       "    }\n",
       "</style>\n",
       "<table border=\"1\" class=\"dataframe\">\n",
       "  <thead>\n",
       "    <tr style=\"text-align: right;\">\n",
       "      <th></th>\n",
       "      <th>formula</th>\n",
       "      <th>target</th>\n",
       "    </tr>\n",
       "  </thead>\n",
       "  <tbody>\n",
       "    <tr>\n",
       "      <th>89</th>\n",
       "      <td>Cr2SnN</td>\n",
       "      <td>141</td>\n",
       "    </tr>\n",
       "    <tr>\n",
       "      <th>45</th>\n",
       "      <td>Ti2TlN</td>\n",
       "      <td>200</td>\n",
       "    </tr>\n",
       "    <tr>\n",
       "      <th>111</th>\n",
       "      <td>Mo2PbN</td>\n",
       "      <td>138</td>\n",
       "    </tr>\n",
       "    <tr>\n",
       "      <th>174</th>\n",
       "      <td>Hf2CdC</td>\n",
       "      <td>174</td>\n",
       "    </tr>\n",
       "    <tr>\n",
       "      <th>0</th>\n",
       "      <td>Sc2AlC</td>\n",
       "      <td>140</td>\n",
       "    </tr>\n",
       "  </tbody>\n",
       "</table>\n",
       "</div>"
      ],
      "text/plain": [
       "    formula  target\n",
       "89   Cr2SnN     141\n",
       "45   Ti2TlN     200\n",
       "111  Mo2PbN     138\n",
       "174  Hf2CdC     174\n",
       "0    Sc2AlC     140"
      ]
     },
     "metadata": {},
     "output_type": "display_data"
    },
    {
     "name": "stderr",
     "output_type": "stream",
     "text": [
      "Processing Input Data: 100%|██████████| 8/8 [00:00<00:00, 30504.03it/s]\n"
     ]
    },
    {
     "name": "stdout",
     "output_type": "stream",
     "text": [
      "\tFeaturizing Compositions...\n"
     ]
    },
    {
     "name": "stderr",
     "output_type": "stream",
     "text": [
      "Assigning Features...: 100%|██████████| 8/8 [00:00<00:00, 10443.33it/s]\n"
     ]
    },
    {
     "name": "stdout",
     "output_type": "stream",
     "text": [
      "\tCreating Pandas Objects...\n"
     ]
    },
    {
     "name": "stderr",
     "output_type": "stream",
     "text": [
      "Processing Input Data: 100%|██████████| 215/215 [00:00<00:00, 51957.56it/s]\n"
     ]
    },
    {
     "name": "stdout",
     "output_type": "stream",
     "text": [
      "\tFeaturizing Compositions...\n"
     ]
    },
    {
     "name": "stderr",
     "output_type": "stream",
     "text": [
      "Assigning Features...: 100%|██████████| 215/215 [00:00<00:00, 19595.29it/s]"
     ]
    },
    {
     "name": "stdout",
     "output_type": "stream",
     "text": [
      "\tCreating Pandas Objects...\n"
     ]
    },
    {
     "name": "stderr",
     "output_type": "stream",
     "text": [
      "\n"
     ]
    }
   ],
   "source": [
    "# create training and candidate datasets\n",
    "train, candidates = generate_data()\n",
    "\n",
    "# show the first five compositions in the training set\n",
    "display(train.head())\n",
    "\n",
    "# featurize the compositions, keep every 20th feature for tutorial simplicity\n",
    "X_train, y_train, formula, _ = composition.generate_features(train)\n",
    "X_train = X_train.iloc[:, ::20]\n",
    "\n",
    "X_candidates, y_candidates, _, _ = composition.generate_features(candidates)\n",
    "X_candidates = X_candidates.iloc[:, ::20]"
   ]
  },
  {
   "cell_type": "markdown",
   "metadata": {},
   "source": [
    "## Applying Honegumi\n",
    "\n",
    "We will now use the [Honegumi](https://honegumi.readthedocs.io/en/latest/index.html) website to generate a script that will help us optimize our material composition for elastic modulus. Unlike other tutorials, however, this will require more extensive modifications to the generated script in order to facilitate feeding in predefined candidate solutions. From the description, we observe that our problem is a **single objective** optimization problem with some **existing materials data**. Additionally, as our problem doesn't have a simple continuous representation, typical Sobol generation won't work, so we will want to adjust the generation strategy somewhat, which can be exposed by selecting the **Fully Bayesian** option.\n",
    "\n",
    "![Honegumi Selections for Optimization with Featurization](featurization_selection.png)"
   ]
  },
  {
   "cell_type": "markdown",
   "metadata": {},
   "source": [
    "The Honegumi generated optimization script will provide a framework for our optimization campaign that we can modify to suit our specific problem needs. In the code sections below, we will make several modifications to this generated script to make it compatible with our problem."
   ]
  },
  {
   "cell_type": "markdown",
   "metadata": {},
   "source": [
    "## Modifying the Code for Our Problem\n",
    "We can modify this code to suit our problem with a few simple modifications. Wherever a modification has been made to the code, a comment starting with `# MOD:` has been added along with a brief description of the change."
   ]
  },
  {
   "cell_type": "code",
   "execution_count": null,
   "metadata": {},
   "outputs": [],
   "source": [
    "import numpy as np\n",
    "import pandas as pd\n",
    "from ax.service.ax_client import AxClient, ObjectiveProperties\n",
    "import matplotlib.pyplot as plt\n",
    "\n",
    "from ax.modelbridge.factory import Models\n",
    "from ax.modelbridge.generation_strategy import GenerationStep, GenerationStrategy\n",
    "from botorch.acquisition import UpperConfidenceBound\n",
    "\n",
    "obj1_name = \"elastic_modulus\" # MOD: change objective name\n",
    "\n",
    "# MOD: remove the branin dummy objective function, we will use tabulated data\n",
    "\n",
    "# MOD: remove dummy training data, we defined this in an earlier cell\n",
    "\n",
    "n_train = len(X_train)\n",
    "\n",
    "gs = GenerationStrategy(\n",
    "    steps=[\n",
    "        # MOD: remove sobol sampling step\n",
    "        GenerationStep(\n",
    "            model=Models.BOTORCH_MODULAR,\n",
    "            num_trials=-1,\n",
    "            max_parallelism=3,\n",
    "            model_kwargs={}, # MOD: no model kwargs\n",
    "        ),\n",
    "    ]\n",
    ")\n",
    "\n",
    "ax_client = AxClient(generation_strategy=gs,\n",
    "                     random_seed=42) # MOD: add random seed for reproducibility\n",
    "\n",
    "ax_client.create_experiment(\n",
    "    parameters=[ # MOD: create flexible parameters for all generated features\n",
    "        {\"name\": feat, \"type\": \"range\", \"bounds\": [-1e5, 1e5]}\n",
    "        for feat in X_train.columns\n",
    "    ],\n",
    "    objectives={\n",
    "        obj1_name: ObjectiveProperties(minimize=False) # MOD: set minimize = FALSE\n",
    "    },\n",
    ")\n",
    "\n",
    "# Add existing data to the AxClient\n",
    "for i in range(n_train):\n",
    "    parameterization = X_train.iloc[i].to_dict()\n",
    "\n",
    "    ax_client.attach_trial(parameterization)\n",
    "    ax_client.complete_trial(trial_index=i, raw_data=y_train.iloc[i])  # MOD: use iloc\n",
    "\n",
    "from ax.core.observation import ObservationFeatures # MOD: import ObservationFeatures\n",
    "\n",
    "selected_indices = []  # MOD: create list to store selected indices\n",
    "for i in range(n_train, n_train + 19): # MOD: account for training data in trial num\n",
    "\n",
    "    ax_client.fit_model()  # MOD: fit the model to the known data\n",
    "    model = ax_client.generation_strategy.model  # MOD: get model object as var\n",
    "\n",
    "    # MOD: define candidates as ObservationFeatures before passing to model\n",
    "    obs_feat = [\n",
    "        ObservationFeatures(\n",
    "            {col: val for col, val in zip(X_candidates.columns, X_candidates.iloc[i])}\n",
    "        )\n",
    "        for i in range(len(X_candidates))\n",
    "    ]\n",
    "\n",
    "    # MOD: evaluate the acquisition function on each candidate, and pull the best\n",
    "    acqf_values = np.array(\n",
    "        model.evaluate_acquisition_function(observation_features=obs_feat)\n",
    "    )\n",
    "    acqf_values[selected_indices] = -100  # give prev selected points a low value\n",
    "\n",
    "    best_index = np.argmax(acqf_values) # get the index of the best candidate\n",
    "    selected_indices.append(best_index) # append this to the selected indices list\n",
    "\n",
    "    results = y_candidates.iloc[best_index]  # MOD: \"measure\" the best idx candidate\n",
    "\n",
    "    ax_client.attach_trial(X_candidates.iloc[best_index].to_dict())\n",
    "    ax_client.complete_trial(trial_index=i, raw_data=results)"
   ]
  },
  {
   "cell_type": "markdown",
   "metadata": {},
   "source": [
    "> NOTE: The output of the above cell has been hidden in the interest of clarity."
   ]
  },
  {
   "cell_type": "code",
   "execution_count": 11,
   "metadata": {},
   "outputs": [
    {
     "name": "stderr",
     "output_type": "stream",
     "text": [
      "[WARNING 01-28 12:56:31] ax.service.utils.report_utils: Column reason missing for all trials. Not appending column.\n"
     ]
    },
    {
     "data": {
      "image/png": "[encoded data removed]",
      "text/plain": [
       "<Figure size 900x600 with 1 Axes>"
      ]
     },
     "metadata": {},
     "output_type": "display_data"
    }
   ],
   "source": [
    "# Plot results\n",
    "objectives = ax_client.objective_names\n",
    "df = ax_client.get_trials_data_frame()\n",
    "\n",
    "fig, ax = plt.subplots(figsize=(6, 4), dpi=150)\n",
    "ax.scatter(df.index, df[objectives], ec=\"k\", fc=\"none\", label=\"Observed\")\n",
    "ax.plot(\n",
    "    df.index,\n",
    "    np.maximum.accumulate(df[objectives]), # MOD: change to maximum\n",
    "    color=\"#0033FF\",\n",
    "    lw=2,\n",
    "    label=\"Best to Trial\",\n",
    ")\n",
    "\n",
    "ax.axvline(n_train+0.5, color=\"k\", ls=\"--\", lw=1) # MOD: mark end of training data\n",
    "\n",
    "ax.set_xlabel(\"Trial Number\")\n",
    "ax.set_ylabel(objectives[0])\n",
    "\n",
    "ax.legend()\n",
    "plt.show()"
   ]
  },
  {
   "cell_type": "markdown",
   "metadata": {},
   "source": [
    "## Show the Best Material\n",
    "\n",
    "After our optimization loop has completed, we can look through the data to find the best discovered material."
   ]
  },
  {
   "cell_type": "code",
   "execution_count": 12,
   "metadata": {},
   "outputs": [
    {
     "name": "stderr",
     "output_type": "stream",
     "text": [
      "[WARNING 01-28 12:56:31] ax.service.utils.report_utils: Column reason missing for all trials. Not appending column.\n"
     ]
    },
    {
     "name": "stdout",
     "output_type": "stream",
     "text": [
      "\n",
      "Best Material:  Cr2SnC\n"
     ]
    }
   ],
   "source": [
    "best_trial_index = ax_client.get_trials_data_frame()[obj1_name].idxmax()\n",
    "\n",
    "print(\"\\nBest Material: \", formula[selected_indices[best_trial_index]])"
   ]
  },
  {
   "cell_type": "markdown",
   "metadata": {},
   "source": [
    "## Next Steps\n",
    "\n",
    "Interested in taking this further? Try to implement the following on your own!\n",
    "\n",
    "1. It is often desireable to find many promising candidates. How long does it take for the model to find the top 5% of the dataset used in this tutorial?\n",
    "\n",
    "2. Here we deliberately removed most of the generated features in the interest of simplicity and because GP models often scale poorly to high dimensions. One of the included model classes `Models.SAASBO` is designed for such situations. Try running the script again using a SAASBO model and with a larger number of features."
   ]
  }
 ],
 "metadata": {
  "kernelspec": {
   "display_name": "ax_env_pip",
   "language": "python",
   "name": "python3"
  },
  "language_info": {
   "codemirror_mode": {
    "name": "ipython",
    "version": 3
   },
   "file_extension": ".py",
   "mimetype": "text/x-python",
   "name": "python",
   "nbconvert_exporter": "python",
   "pygments_lexer": "ipython3",
   "version": "3.10.14"
  }
 },
 "nbformat": 4,
 "nbformat_minor": 2
}
